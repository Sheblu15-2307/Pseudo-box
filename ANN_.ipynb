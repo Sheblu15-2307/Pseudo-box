{
  "nbformat": 4,
  "nbformat_minor": 0,
  "metadata": {
    "colab": {
      "provenance": [],
      "include_colab_link": true
    },
    "kernelspec": {
      "display_name": "Python 3",
      "language": "python",
      "name": "python3"
    },
    "language_info": {
      "codemirror_mode": {
        "name": "ipython",
        "version": 3
      },
      "file_extension": ".py",
      "mimetype": "text/x-python",
      "name": "python",
      "nbconvert_exporter": "python",
      "pygments_lexer": "ipython3",
      "version": "3.7.3"
    }
  },
  "cells": [
    {
      "cell_type": "markdown",
      "metadata": {
        "id": "view-in-github",
        "colab_type": "text"
      },
      "source": [
        "<a href=\"https://colab.research.google.com/github/Sheblu15-2307/Pseudo-box/blob/main/ANN_.ipynb\" target=\"_parent\"><img src=\"https://colab.research.google.com/assets/colab-badge.svg\" alt=\"Open In Colab\"/></a>"
      ]
    },
    {
      "cell_type": "code",
      "metadata": {
        "colab": {
          "base_uri": "https://localhost:8080/"
        },
        "id": "7YmkhS0iuRdd",
        "outputId": "c7a4aec6-e6dc-4c9e-c156-406e1986b1ef"
      },
      "source": [
        "%cd /content/drive/MyDrive/Python/Personality_Prediction-master"
      ],
      "execution_count": 1,
      "outputs": [
        {
          "output_type": "stream",
          "name": "stdout",
          "text": [
            "[Errno 2] No such file or directory: '/content/drive/MyDrive/Python/Personality_Prediction-master'\n",
            "/content\n"
          ]
        }
      ]
    },
    {
      "cell_type": "markdown",
      "metadata": {
        "id": "41MuQ7gS-q--"
      },
      "source": [
        "**Project Title:** Personality Prediction Using Machine Learning"
      ]
    },
    {
      "cell_type": "code",
      "metadata": {
        "colab": {
          "base_uri": "https://localhost:8080/"
        },
        "id": "gX601o0yuGw9",
        "outputId": "a37d2cf5-fdaa-4818-93e2-788f550cfd23"
      },
      "source": [
        "from google.colab import drive\n",
        "drive.mount('/content/drive')"
      ],
      "execution_count": 1,
      "outputs": [
        {
          "output_type": "stream",
          "name": "stdout",
          "text": [
            "Mounted at /content/drive\n"
          ]
        }
      ]
    },
    {
      "cell_type": "markdown",
      "metadata": {
        "id": "A_fnFlv8_7Y7"
      },
      "source": [
        "**Project Description:** We're about to predict personality of a random person  under these criteria as follows....\n",
        "\n",
        "*   Gender\n",
        "*   Age\n",
        "*   Openness\n",
        "*   Neuroticism\n",
        "*   Conscientiousness\n",
        "*   Agreeableness\n",
        "*   Extraversion\n",
        "\n",
        "**Personality Types: (Class level)**\n",
        "\n",
        "\n",
        "*   Extaverted\n",
        "*   Lively\n",
        "*   Seriuos\n",
        "*   Dependable\n",
        "*   Responsible\n",
        "\n",
        "\n",
        "This dataset contains 1023 questionnaire answers collected online by Open Psychometrics."
      ]
    },
    {
      "cell_type": "markdown",
      "metadata": {
        "id": "XILvEcwezfxZ"
      },
      "source": [
        "**Import Library**"
      ]
    },
    {
      "cell_type": "code",
      "metadata": {
        "id": "S7dlX_akzi3a"
      },
      "source": [
        "import numpy as np\n",
        "import matplotlib.pyplot as plt\n",
        "import pandas as pd\n",
        "from sklearn.preprocessing import LabelEncoder\n",
        "from sklearn import tree\n",
        "import pydotplus\n",
        "import seaborn\n",
        "import matplotlib.pyplot as plt\n",
        "import matplotlib.image as pltimg\n",
        "import seaborn\n",
        "from sklearn.model_selection import train_test_split"
      ],
      "execution_count": 2,
      "outputs": []
    },
    {
      "cell_type": "markdown",
      "metadata": {
        "id": "0d19zCb1zm2Q"
      },
      "source": [
        "**Importing the Dataset**"
      ]
    },
    {
      "cell_type": "code",
      "source": [
        "from google.colab import files\n",
        "uploaded = files.upload()"
      ],
      "metadata": {
        "colab": {
          "base_uri": "https://localhost:8080/",
          "height": 74
        },
        "id": "wCFopzmFMtLG",
        "outputId": "1c1a7ac7-cd59-4a69-86fb-fda3c18bf8d3"
      },
      "execution_count": 4,
      "outputs": [
        {
          "output_type": "display_data",
          "data": {
            "text/plain": [
              "<IPython.core.display.HTML object>"
            ],
            "text/html": [
              "\n",
              "     <input type=\"file\" id=\"files-995eba31-d98d-41be-909e-b5577d33a4c2\" name=\"files[]\" multiple disabled\n",
              "        style=\"border:none\" />\n",
              "     <output id=\"result-995eba31-d98d-41be-909e-b5577d33a4c2\">\n",
              "      Upload widget is only available when the cell has been executed in the\n",
              "      current browser session. Please rerun this cell to enable.\n",
              "      </output>\n",
              "      <script>// Copyright 2017 Google LLC\n",
              "//\n",
              "// Licensed under the Apache License, Version 2.0 (the \"License\");\n",
              "// you may not use this file except in compliance with the License.\n",
              "// You may obtain a copy of the License at\n",
              "//\n",
              "//      http://www.apache.org/licenses/LICENSE-2.0\n",
              "//\n",
              "// Unless required by applicable law or agreed to in writing, software\n",
              "// distributed under the License is distributed on an \"AS IS\" BASIS,\n",
              "// WITHOUT WARRANTIES OR CONDITIONS OF ANY KIND, either express or implied.\n",
              "// See the License for the specific language governing permissions and\n",
              "// limitations under the License.\n",
              "\n",
              "/**\n",
              " * @fileoverview Helpers for google.colab Python module.\n",
              " */\n",
              "(function(scope) {\n",
              "function span(text, styleAttributes = {}) {\n",
              "  const element = document.createElement('span');\n",
              "  element.textContent = text;\n",
              "  for (const key of Object.keys(styleAttributes)) {\n",
              "    element.style[key] = styleAttributes[key];\n",
              "  }\n",
              "  return element;\n",
              "}\n",
              "\n",
              "// Max number of bytes which will be uploaded at a time.\n",
              "const MAX_PAYLOAD_SIZE = 100 * 1024;\n",
              "\n",
              "function _uploadFiles(inputId, outputId) {\n",
              "  const steps = uploadFilesStep(inputId, outputId);\n",
              "  const outputElement = document.getElementById(outputId);\n",
              "  // Cache steps on the outputElement to make it available for the next call\n",
              "  // to uploadFilesContinue from Python.\n",
              "  outputElement.steps = steps;\n",
              "\n",
              "  return _uploadFilesContinue(outputId);\n",
              "}\n",
              "\n",
              "// This is roughly an async generator (not supported in the browser yet),\n",
              "// where there are multiple asynchronous steps and the Python side is going\n",
              "// to poll for completion of each step.\n",
              "// This uses a Promise to block the python side on completion of each step,\n",
              "// then passes the result of the previous step as the input to the next step.\n",
              "function _uploadFilesContinue(outputId) {\n",
              "  const outputElement = document.getElementById(outputId);\n",
              "  const steps = outputElement.steps;\n",
              "\n",
              "  const next = steps.next(outputElement.lastPromiseValue);\n",
              "  return Promise.resolve(next.value.promise).then((value) => {\n",
              "    // Cache the last promise value to make it available to the next\n",
              "    // step of the generator.\n",
              "    outputElement.lastPromiseValue = value;\n",
              "    return next.value.response;\n",
              "  });\n",
              "}\n",
              "\n",
              "/**\n",
              " * Generator function which is called between each async step of the upload\n",
              " * process.\n",
              " * @param {string} inputId Element ID of the input file picker element.\n",
              " * @param {string} outputId Element ID of the output display.\n",
              " * @return {!Iterable<!Object>} Iterable of next steps.\n",
              " */\n",
              "function* uploadFilesStep(inputId, outputId) {\n",
              "  const inputElement = document.getElementById(inputId);\n",
              "  inputElement.disabled = false;\n",
              "\n",
              "  const outputElement = document.getElementById(outputId);\n",
              "  outputElement.innerHTML = '';\n",
              "\n",
              "  const pickedPromise = new Promise((resolve) => {\n",
              "    inputElement.addEventListener('change', (e) => {\n",
              "      resolve(e.target.files);\n",
              "    });\n",
              "  });\n",
              "\n",
              "  const cancel = document.createElement('button');\n",
              "  inputElement.parentElement.appendChild(cancel);\n",
              "  cancel.textContent = 'Cancel upload';\n",
              "  const cancelPromise = new Promise((resolve) => {\n",
              "    cancel.onclick = () => {\n",
              "      resolve(null);\n",
              "    };\n",
              "  });\n",
              "\n",
              "  // Wait for the user to pick the files.\n",
              "  const files = yield {\n",
              "    promise: Promise.race([pickedPromise, cancelPromise]),\n",
              "    response: {\n",
              "      action: 'starting',\n",
              "    }\n",
              "  };\n",
              "\n",
              "  cancel.remove();\n",
              "\n",
              "  // Disable the input element since further picks are not allowed.\n",
              "  inputElement.disabled = true;\n",
              "\n",
              "  if (!files) {\n",
              "    return {\n",
              "      response: {\n",
              "        action: 'complete',\n",
              "      }\n",
              "    };\n",
              "  }\n",
              "\n",
              "  for (const file of files) {\n",
              "    const li = document.createElement('li');\n",
              "    li.append(span(file.name, {fontWeight: 'bold'}));\n",
              "    li.append(span(\n",
              "        `(${file.type || 'n/a'}) - ${file.size} bytes, ` +\n",
              "        `last modified: ${\n",
              "            file.lastModifiedDate ? file.lastModifiedDate.toLocaleDateString() :\n",
              "                                    'n/a'} - `));\n",
              "    const percent = span('0% done');\n",
              "    li.appendChild(percent);\n",
              "\n",
              "    outputElement.appendChild(li);\n",
              "\n",
              "    const fileDataPromise = new Promise((resolve) => {\n",
              "      const reader = new FileReader();\n",
              "      reader.onload = (e) => {\n",
              "        resolve(e.target.result);\n",
              "      };\n",
              "      reader.readAsArrayBuffer(file);\n",
              "    });\n",
              "    // Wait for the data to be ready.\n",
              "    let fileData = yield {\n",
              "      promise: fileDataPromise,\n",
              "      response: {\n",
              "        action: 'continue',\n",
              "      }\n",
              "    };\n",
              "\n",
              "    // Use a chunked sending to avoid message size limits. See b/62115660.\n",
              "    let position = 0;\n",
              "    do {\n",
              "      const length = Math.min(fileData.byteLength - position, MAX_PAYLOAD_SIZE);\n",
              "      const chunk = new Uint8Array(fileData, position, length);\n",
              "      position += length;\n",
              "\n",
              "      const base64 = btoa(String.fromCharCode.apply(null, chunk));\n",
              "      yield {\n",
              "        response: {\n",
              "          action: 'append',\n",
              "          file: file.name,\n",
              "          data: base64,\n",
              "        },\n",
              "      };\n",
              "\n",
              "      let percentDone = fileData.byteLength === 0 ?\n",
              "          100 :\n",
              "          Math.round((position / fileData.byteLength) * 100);\n",
              "      percent.textContent = `${percentDone}% done`;\n",
              "\n",
              "    } while (position < fileData.byteLength);\n",
              "  }\n",
              "\n",
              "  // All done.\n",
              "  yield {\n",
              "    response: {\n",
              "      action: 'complete',\n",
              "    }\n",
              "  };\n",
              "}\n",
              "\n",
              "scope.google = scope.google || {};\n",
              "scope.google.colab = scope.google.colab || {};\n",
              "scope.google.colab._files = {\n",
              "  _uploadFiles,\n",
              "  _uploadFilesContinue,\n",
              "};\n",
              "})(self);\n",
              "</script> "
            ]
          },
          "metadata": {}
        },
        {
          "output_type": "stream",
          "name": "stdout",
          "text": [
            "Saving final_per.csv to final_per.csv\n"
          ]
        }
      ]
    },
    {
      "cell_type": "markdown",
      "metadata": {
        "id": "7LKJjFv4z4yU"
      },
      "source": [
        "**Read dataset to pandas dataframe**"
      ]
    },
    {
      "cell_type": "code",
      "metadata": {
        "colab": {
          "base_uri": "https://localhost:8080/",
          "height": 423
        },
        "id": "tka3rL5Cz6OC",
        "outputId": "6e3398e3-3473-483c-bb43-f6171d59aa26"
      },
      "source": [
        "dataset = pd.read_csv(\"final_per.csv\")\n",
        "dataset"
      ],
      "execution_count": 5,
      "outputs": [
        {
          "output_type": "execute_result",
          "data": {
            "text/plain": [
              "      Gender  Age  openness  neuroticism  conscientiousness  agreeableness  \\\n",
              "0       Male   18         5            7                  7              6   \n",
              "1       Male   18         5            7                  5              6   \n",
              "2       Male   19         6            7                  5              6   \n",
              "3     Female   19         6            7                  5              5   \n",
              "4       Male   19         5            6                  4              6   \n",
              "...      ...  ...       ...          ...                ...            ...   \n",
              "1019  Female   25         3            2                  4              4   \n",
              "1020  Female   17         4            4                  4              4   \n",
              "1021    Male   19         4            4                  4              4   \n",
              "1022    Male   22         3            4                  3              4   \n",
              "1023    Male   18         4            4                  4              4   \n",
              "\n",
              "      extraversion  personality  \n",
              "0                4   dependable  \n",
              "1                7   dependable  \n",
              "2                3   dependable  \n",
              "3                5   dependable  \n",
              "4                3   dependable  \n",
              "...            ...          ...  \n",
              "1019             3      serious  \n",
              "1020             4  extraverted  \n",
              "1021             3  extraverted  \n",
              "1022             3   dependable  \n",
              "1023             4  extraverted  \n",
              "\n",
              "[1024 rows x 8 columns]"
            ],
            "text/html": [
              "\n",
              "  <div id=\"df-d7af2713-01e6-4698-8083-3d01d2e55d02\">\n",
              "    <div class=\"colab-df-container\">\n",
              "      <div>\n",
              "<style scoped>\n",
              "    .dataframe tbody tr th:only-of-type {\n",
              "        vertical-align: middle;\n",
              "    }\n",
              "\n",
              "    .dataframe tbody tr th {\n",
              "        vertical-align: top;\n",
              "    }\n",
              "\n",
              "    .dataframe thead th {\n",
              "        text-align: right;\n",
              "    }\n",
              "</style>\n",
              "<table border=\"1\" class=\"dataframe\">\n",
              "  <thead>\n",
              "    <tr style=\"text-align: right;\">\n",
              "      <th></th>\n",
              "      <th>Gender</th>\n",
              "      <th>Age</th>\n",
              "      <th>openness</th>\n",
              "      <th>neuroticism</th>\n",
              "      <th>conscientiousness</th>\n",
              "      <th>agreeableness</th>\n",
              "      <th>extraversion</th>\n",
              "      <th>personality</th>\n",
              "    </tr>\n",
              "  </thead>\n",
              "  <tbody>\n",
              "    <tr>\n",
              "      <th>0</th>\n",
              "      <td>Male</td>\n",
              "      <td>18</td>\n",
              "      <td>5</td>\n",
              "      <td>7</td>\n",
              "      <td>7</td>\n",
              "      <td>6</td>\n",
              "      <td>4</td>\n",
              "      <td>dependable</td>\n",
              "    </tr>\n",
              "    <tr>\n",
              "      <th>1</th>\n",
              "      <td>Male</td>\n",
              "      <td>18</td>\n",
              "      <td>5</td>\n",
              "      <td>7</td>\n",
              "      <td>5</td>\n",
              "      <td>6</td>\n",
              "      <td>7</td>\n",
              "      <td>dependable</td>\n",
              "    </tr>\n",
              "    <tr>\n",
              "      <th>2</th>\n",
              "      <td>Male</td>\n",
              "      <td>19</td>\n",
              "      <td>6</td>\n",
              "      <td>7</td>\n",
              "      <td>5</td>\n",
              "      <td>6</td>\n",
              "      <td>3</td>\n",
              "      <td>dependable</td>\n",
              "    </tr>\n",
              "    <tr>\n",
              "      <th>3</th>\n",
              "      <td>Female</td>\n",
              "      <td>19</td>\n",
              "      <td>6</td>\n",
              "      <td>7</td>\n",
              "      <td>5</td>\n",
              "      <td>5</td>\n",
              "      <td>5</td>\n",
              "      <td>dependable</td>\n",
              "    </tr>\n",
              "    <tr>\n",
              "      <th>4</th>\n",
              "      <td>Male</td>\n",
              "      <td>19</td>\n",
              "      <td>5</td>\n",
              "      <td>6</td>\n",
              "      <td>4</td>\n",
              "      <td>6</td>\n",
              "      <td>3</td>\n",
              "      <td>dependable</td>\n",
              "    </tr>\n",
              "    <tr>\n",
              "      <th>...</th>\n",
              "      <td>...</td>\n",
              "      <td>...</td>\n",
              "      <td>...</td>\n",
              "      <td>...</td>\n",
              "      <td>...</td>\n",
              "      <td>...</td>\n",
              "      <td>...</td>\n",
              "      <td>...</td>\n",
              "    </tr>\n",
              "    <tr>\n",
              "      <th>1019</th>\n",
              "      <td>Female</td>\n",
              "      <td>25</td>\n",
              "      <td>3</td>\n",
              "      <td>2</td>\n",
              "      <td>4</td>\n",
              "      <td>4</td>\n",
              "      <td>3</td>\n",
              "      <td>serious</td>\n",
              "    </tr>\n",
              "    <tr>\n",
              "      <th>1020</th>\n",
              "      <td>Female</td>\n",
              "      <td>17</td>\n",
              "      <td>4</td>\n",
              "      <td>4</td>\n",
              "      <td>4</td>\n",
              "      <td>4</td>\n",
              "      <td>4</td>\n",
              "      <td>extraverted</td>\n",
              "    </tr>\n",
              "    <tr>\n",
              "      <th>1021</th>\n",
              "      <td>Male</td>\n",
              "      <td>19</td>\n",
              "      <td>4</td>\n",
              "      <td>4</td>\n",
              "      <td>4</td>\n",
              "      <td>4</td>\n",
              "      <td>3</td>\n",
              "      <td>extraverted</td>\n",
              "    </tr>\n",
              "    <tr>\n",
              "      <th>1022</th>\n",
              "      <td>Male</td>\n",
              "      <td>22</td>\n",
              "      <td>3</td>\n",
              "      <td>4</td>\n",
              "      <td>3</td>\n",
              "      <td>4</td>\n",
              "      <td>3</td>\n",
              "      <td>dependable</td>\n",
              "    </tr>\n",
              "    <tr>\n",
              "      <th>1023</th>\n",
              "      <td>Male</td>\n",
              "      <td>18</td>\n",
              "      <td>4</td>\n",
              "      <td>4</td>\n",
              "      <td>4</td>\n",
              "      <td>4</td>\n",
              "      <td>4</td>\n",
              "      <td>extraverted</td>\n",
              "    </tr>\n",
              "  </tbody>\n",
              "</table>\n",
              "<p>1024 rows × 8 columns</p>\n",
              "</div>\n",
              "      <button class=\"colab-df-convert\" onclick=\"convertToInteractive('df-d7af2713-01e6-4698-8083-3d01d2e55d02')\"\n",
              "              title=\"Convert this dataframe to an interactive table.\"\n",
              "              style=\"display:none;\">\n",
              "        \n",
              "  <svg xmlns=\"http://www.w3.org/2000/svg\" height=\"24px\"viewBox=\"0 0 24 24\"\n",
              "       width=\"24px\">\n",
              "    <path d=\"M0 0h24v24H0V0z\" fill=\"none\"/>\n",
              "    <path d=\"M18.56 5.44l.94 2.06.94-2.06 2.06-.94-2.06-.94-.94-2.06-.94 2.06-2.06.94zm-11 1L8.5 8.5l.94-2.06 2.06-.94-2.06-.94L8.5 2.5l-.94 2.06-2.06.94zm10 10l.94 2.06.94-2.06 2.06-.94-2.06-.94-.94-2.06-.94 2.06-2.06.94z\"/><path d=\"M17.41 7.96l-1.37-1.37c-.4-.4-.92-.59-1.43-.59-.52 0-1.04.2-1.43.59L10.3 9.45l-7.72 7.72c-.78.78-.78 2.05 0 2.83L4 21.41c.39.39.9.59 1.41.59.51 0 1.02-.2 1.41-.59l7.78-7.78 2.81-2.81c.8-.78.8-2.07 0-2.86zM5.41 20L4 18.59l7.72-7.72 1.47 1.35L5.41 20z\"/>\n",
              "  </svg>\n",
              "      </button>\n",
              "      \n",
              "  <style>\n",
              "    .colab-df-container {\n",
              "      display:flex;\n",
              "      flex-wrap:wrap;\n",
              "      gap: 12px;\n",
              "    }\n",
              "\n",
              "    .colab-df-convert {\n",
              "      background-color: #E8F0FE;\n",
              "      border: none;\n",
              "      border-radius: 50%;\n",
              "      cursor: pointer;\n",
              "      display: none;\n",
              "      fill: #1967D2;\n",
              "      height: 32px;\n",
              "      padding: 0 0 0 0;\n",
              "      width: 32px;\n",
              "    }\n",
              "\n",
              "    .colab-df-convert:hover {\n",
              "      background-color: #E2EBFA;\n",
              "      box-shadow: 0px 1px 2px rgba(60, 64, 67, 0.3), 0px 1px 3px 1px rgba(60, 64, 67, 0.15);\n",
              "      fill: #174EA6;\n",
              "    }\n",
              "\n",
              "    [theme=dark] .colab-df-convert {\n",
              "      background-color: #3B4455;\n",
              "      fill: #D2E3FC;\n",
              "    }\n",
              "\n",
              "    [theme=dark] .colab-df-convert:hover {\n",
              "      background-color: #434B5C;\n",
              "      box-shadow: 0px 1px 3px 1px rgba(0, 0, 0, 0.15);\n",
              "      filter: drop-shadow(0px 1px 2px rgba(0, 0, 0, 0.3));\n",
              "      fill: #FFFFFF;\n",
              "    }\n",
              "  </style>\n",
              "\n",
              "      <script>\n",
              "        const buttonEl =\n",
              "          document.querySelector('#df-d7af2713-01e6-4698-8083-3d01d2e55d02 button.colab-df-convert');\n",
              "        buttonEl.style.display =\n",
              "          google.colab.kernel.accessAllowed ? 'block' : 'none';\n",
              "\n",
              "        async function convertToInteractive(key) {\n",
              "          const element = document.querySelector('#df-d7af2713-01e6-4698-8083-3d01d2e55d02');\n",
              "          const dataTable =\n",
              "            await google.colab.kernel.invokeFunction('convertToInteractive',\n",
              "                                                     [key], {});\n",
              "          if (!dataTable) return;\n",
              "\n",
              "          const docLinkHtml = 'Like what you see? Visit the ' +\n",
              "            '<a target=\"_blank\" href=https://colab.research.google.com/notebooks/data_table.ipynb>data table notebook</a>'\n",
              "            + ' to learn more about interactive tables.';\n",
              "          element.innerHTML = '';\n",
              "          dataTable['output_type'] = 'display_data';\n",
              "          await google.colab.output.renderOutput(dataTable, element);\n",
              "          const docLink = document.createElement('div');\n",
              "          docLink.innerHTML = docLinkHtml;\n",
              "          element.appendChild(docLink);\n",
              "        }\n",
              "      </script>\n",
              "    </div>\n",
              "  </div>\n",
              "  "
            ]
          },
          "metadata": {},
          "execution_count": 5
        }
      ]
    },
    {
      "cell_type": "markdown",
      "metadata": {
        "id": "Od_Xz0pbfc9E"
      },
      "source": [
        "**Label Encoding**"
      ]
    },
    {
      "cell_type": "code",
      "metadata": {
        "colab": {
          "base_uri": "https://localhost:8080/",
          "height": 423
        },
        "id": "6o8LgOhOgxi0",
        "outputId": "13e211a1-ab23-465a-c3be-622d55f93dfd"
      },
      "source": [
        "le_x= LabelEncoder()\n",
        "dataset=dataset.apply(LabelEncoder().fit_transform)\n",
        "dataset"
      ],
      "execution_count": 5,
      "outputs": [
        {
          "output_type": "execute_result",
          "data": {
            "text/plain": [
              "      Gender  Age  openness  neuroticism  conscientiousness  agreeableness  \\\n",
              "0          1    2         4            6                  6              5   \n",
              "1          1    2         4            6                  4              5   \n",
              "2          1    3         5            6                  4              5   \n",
              "3          0    3         5            6                  4              4   \n",
              "4          1    3         4            5                  3              5   \n",
              "...      ...  ...       ...          ...                ...            ...   \n",
              "1019       0    9         2            1                  3              3   \n",
              "1020       0    1         3            3                  3              3   \n",
              "1021       1    3         3            3                  3              3   \n",
              "1022       1    6         2            3                  2              3   \n",
              "1023       1    2         3            3                  3              3   \n",
              "\n",
              "      extraversion  personality  \n",
              "0                3            0  \n",
              "1                6            0  \n",
              "2                2            0  \n",
              "3                4            0  \n",
              "4                2            0  \n",
              "...            ...          ...  \n",
              "1019             2            4  \n",
              "1020             3            1  \n",
              "1021             2            1  \n",
              "1022             2            0  \n",
              "1023             3            1  \n",
              "\n",
              "[1024 rows x 8 columns]"
            ],
            "text/html": [
              "\n",
              "  <div id=\"df-3172e8bf-12a2-4ff4-84a3-7a910754f830\">\n",
              "    <div class=\"colab-df-container\">\n",
              "      <div>\n",
              "<style scoped>\n",
              "    .dataframe tbody tr th:only-of-type {\n",
              "        vertical-align: middle;\n",
              "    }\n",
              "\n",
              "    .dataframe tbody tr th {\n",
              "        vertical-align: top;\n",
              "    }\n",
              "\n",
              "    .dataframe thead th {\n",
              "        text-align: right;\n",
              "    }\n",
              "</style>\n",
              "<table border=\"1\" class=\"dataframe\">\n",
              "  <thead>\n",
              "    <tr style=\"text-align: right;\">\n",
              "      <th></th>\n",
              "      <th>Gender</th>\n",
              "      <th>Age</th>\n",
              "      <th>openness</th>\n",
              "      <th>neuroticism</th>\n",
              "      <th>conscientiousness</th>\n",
              "      <th>agreeableness</th>\n",
              "      <th>extraversion</th>\n",
              "      <th>personality</th>\n",
              "    </tr>\n",
              "  </thead>\n",
              "  <tbody>\n",
              "    <tr>\n",
              "      <th>0</th>\n",
              "      <td>1</td>\n",
              "      <td>2</td>\n",
              "      <td>4</td>\n",
              "      <td>6</td>\n",
              "      <td>6</td>\n",
              "      <td>5</td>\n",
              "      <td>3</td>\n",
              "      <td>0</td>\n",
              "    </tr>\n",
              "    <tr>\n",
              "      <th>1</th>\n",
              "      <td>1</td>\n",
              "      <td>2</td>\n",
              "      <td>4</td>\n",
              "      <td>6</td>\n",
              "      <td>4</td>\n",
              "      <td>5</td>\n",
              "      <td>6</td>\n",
              "      <td>0</td>\n",
              "    </tr>\n",
              "    <tr>\n",
              "      <th>2</th>\n",
              "      <td>1</td>\n",
              "      <td>3</td>\n",
              "      <td>5</td>\n",
              "      <td>6</td>\n",
              "      <td>4</td>\n",
              "      <td>5</td>\n",
              "      <td>2</td>\n",
              "      <td>0</td>\n",
              "    </tr>\n",
              "    <tr>\n",
              "      <th>3</th>\n",
              "      <td>0</td>\n",
              "      <td>3</td>\n",
              "      <td>5</td>\n",
              "      <td>6</td>\n",
              "      <td>4</td>\n",
              "      <td>4</td>\n",
              "      <td>4</td>\n",
              "      <td>0</td>\n",
              "    </tr>\n",
              "    <tr>\n",
              "      <th>4</th>\n",
              "      <td>1</td>\n",
              "      <td>3</td>\n",
              "      <td>4</td>\n",
              "      <td>5</td>\n",
              "      <td>3</td>\n",
              "      <td>5</td>\n",
              "      <td>2</td>\n",
              "      <td>0</td>\n",
              "    </tr>\n",
              "    <tr>\n",
              "      <th>...</th>\n",
              "      <td>...</td>\n",
              "      <td>...</td>\n",
              "      <td>...</td>\n",
              "      <td>...</td>\n",
              "      <td>...</td>\n",
              "      <td>...</td>\n",
              "      <td>...</td>\n",
              "      <td>...</td>\n",
              "    </tr>\n",
              "    <tr>\n",
              "      <th>1019</th>\n",
              "      <td>0</td>\n",
              "      <td>9</td>\n",
              "      <td>2</td>\n",
              "      <td>1</td>\n",
              "      <td>3</td>\n",
              "      <td>3</td>\n",
              "      <td>2</td>\n",
              "      <td>4</td>\n",
              "    </tr>\n",
              "    <tr>\n",
              "      <th>1020</th>\n",
              "      <td>0</td>\n",
              "      <td>1</td>\n",
              "      <td>3</td>\n",
              "      <td>3</td>\n",
              "      <td>3</td>\n",
              "      <td>3</td>\n",
              "      <td>3</td>\n",
              "      <td>1</td>\n",
              "    </tr>\n",
              "    <tr>\n",
              "      <th>1021</th>\n",
              "      <td>1</td>\n",
              "      <td>3</td>\n",
              "      <td>3</td>\n",
              "      <td>3</td>\n",
              "      <td>3</td>\n",
              "      <td>3</td>\n",
              "      <td>2</td>\n",
              "      <td>1</td>\n",
              "    </tr>\n",
              "    <tr>\n",
              "      <th>1022</th>\n",
              "      <td>1</td>\n",
              "      <td>6</td>\n",
              "      <td>2</td>\n",
              "      <td>3</td>\n",
              "      <td>2</td>\n",
              "      <td>3</td>\n",
              "      <td>2</td>\n",
              "      <td>0</td>\n",
              "    </tr>\n",
              "    <tr>\n",
              "      <th>1023</th>\n",
              "      <td>1</td>\n",
              "      <td>2</td>\n",
              "      <td>3</td>\n",
              "      <td>3</td>\n",
              "      <td>3</td>\n",
              "      <td>3</td>\n",
              "      <td>3</td>\n",
              "      <td>1</td>\n",
              "    </tr>\n",
              "  </tbody>\n",
              "</table>\n",
              "<p>1024 rows × 8 columns</p>\n",
              "</div>\n",
              "      <button class=\"colab-df-convert\" onclick=\"convertToInteractive('df-3172e8bf-12a2-4ff4-84a3-7a910754f830')\"\n",
              "              title=\"Convert this dataframe to an interactive table.\"\n",
              "              style=\"display:none;\">\n",
              "        \n",
              "  <svg xmlns=\"http://www.w3.org/2000/svg\" height=\"24px\"viewBox=\"0 0 24 24\"\n",
              "       width=\"24px\">\n",
              "    <path d=\"M0 0h24v24H0V0z\" fill=\"none\"/>\n",
              "    <path d=\"M18.56 5.44l.94 2.06.94-2.06 2.06-.94-2.06-.94-.94-2.06-.94 2.06-2.06.94zm-11 1L8.5 8.5l.94-2.06 2.06-.94-2.06-.94L8.5 2.5l-.94 2.06-2.06.94zm10 10l.94 2.06.94-2.06 2.06-.94-2.06-.94-.94-2.06-.94 2.06-2.06.94z\"/><path d=\"M17.41 7.96l-1.37-1.37c-.4-.4-.92-.59-1.43-.59-.52 0-1.04.2-1.43.59L10.3 9.45l-7.72 7.72c-.78.78-.78 2.05 0 2.83L4 21.41c.39.39.9.59 1.41.59.51 0 1.02-.2 1.41-.59l7.78-7.78 2.81-2.81c.8-.78.8-2.07 0-2.86zM5.41 20L4 18.59l7.72-7.72 1.47 1.35L5.41 20z\"/>\n",
              "  </svg>\n",
              "      </button>\n",
              "      \n",
              "  <style>\n",
              "    .colab-df-container {\n",
              "      display:flex;\n",
              "      flex-wrap:wrap;\n",
              "      gap: 12px;\n",
              "    }\n",
              "\n",
              "    .colab-df-convert {\n",
              "      background-color: #E8F0FE;\n",
              "      border: none;\n",
              "      border-radius: 50%;\n",
              "      cursor: pointer;\n",
              "      display: none;\n",
              "      fill: #1967D2;\n",
              "      height: 32px;\n",
              "      padding: 0 0 0 0;\n",
              "      width: 32px;\n",
              "    }\n",
              "\n",
              "    .colab-df-convert:hover {\n",
              "      background-color: #E2EBFA;\n",
              "      box-shadow: 0px 1px 2px rgba(60, 64, 67, 0.3), 0px 1px 3px 1px rgba(60, 64, 67, 0.15);\n",
              "      fill: #174EA6;\n",
              "    }\n",
              "\n",
              "    [theme=dark] .colab-df-convert {\n",
              "      background-color: #3B4455;\n",
              "      fill: #D2E3FC;\n",
              "    }\n",
              "\n",
              "    [theme=dark] .colab-df-convert:hover {\n",
              "      background-color: #434B5C;\n",
              "      box-shadow: 0px 1px 3px 1px rgba(0, 0, 0, 0.15);\n",
              "      filter: drop-shadow(0px 1px 2px rgba(0, 0, 0, 0.3));\n",
              "      fill: #FFFFFF;\n",
              "    }\n",
              "  </style>\n",
              "\n",
              "      <script>\n",
              "        const buttonEl =\n",
              "          document.querySelector('#df-3172e8bf-12a2-4ff4-84a3-7a910754f830 button.colab-df-convert');\n",
              "        buttonEl.style.display =\n",
              "          google.colab.kernel.accessAllowed ? 'block' : 'none';\n",
              "\n",
              "        async function convertToInteractive(key) {\n",
              "          const element = document.querySelector('#df-3172e8bf-12a2-4ff4-84a3-7a910754f830');\n",
              "          const dataTable =\n",
              "            await google.colab.kernel.invokeFunction('convertToInteractive',\n",
              "                                                     [key], {});\n",
              "          if (!dataTable) return;\n",
              "\n",
              "          const docLinkHtml = 'Like what you see? Visit the ' +\n",
              "            '<a target=\"_blank\" href=https://colab.research.google.com/notebooks/data_table.ipynb>data table notebook</a>'\n",
              "            + ' to learn more about interactive tables.';\n",
              "          element.innerHTML = '';\n",
              "          dataTable['output_type'] = 'display_data';\n",
              "          await google.colab.output.renderOutput(dataTable, element);\n",
              "          const docLink = document.createElement('div');\n",
              "          docLink.innerHTML = docLinkHtml;\n",
              "          element.appendChild(docLink);\n",
              "        }\n",
              "      </script>\n",
              "    </div>\n",
              "  </div>\n",
              "  "
            ]
          },
          "metadata": {},
          "execution_count": 5
        }
      ]
    },
    {
      "cell_type": "markdown",
      "metadata": {
        "id": "i4YNIIZgz66m"
      },
      "source": [
        "**Split our dataset into its attributes and labels**"
      ]
    },
    {
      "cell_type": "code",
      "metadata": {
        "id": "lp3TJG670EJa"
      },
      "source": [
        "X = dataset.iloc[:, :-1]\n",
        "y = dataset.iloc[:, 7]"
      ],
      "execution_count": 6,
      "outputs": []
    },
    {
      "cell_type": "code",
      "metadata": {
        "colab": {
          "base_uri": "https://localhost:8080/"
        },
        "id": "ABXSkEa7Mx24",
        "outputId": "e9bf895e-71dc-4b75-9084-e548fe73f471"
      },
      "source": [
        "y"
      ],
      "execution_count": 7,
      "outputs": [
        {
          "output_type": "execute_result",
          "data": {
            "text/plain": [
              "0       0\n",
              "1       0\n",
              "2       0\n",
              "3       0\n",
              "4       0\n",
              "       ..\n",
              "1019    4\n",
              "1020    1\n",
              "1021    1\n",
              "1022    0\n",
              "1023    1\n",
              "Name: personality, Length: 1024, dtype: int64"
            ]
          },
          "metadata": {},
          "execution_count": 7
        }
      ]
    },
    {
      "cell_type": "markdown",
      "metadata": {
        "id": "VJ1h2ki7DNzm"
      },
      "source": [
        "***Data Analysis***"
      ]
    },
    {
      "cell_type": "code",
      "metadata": {
        "colab": {
          "base_uri": "https://localhost:8080/"
        },
        "id": "VzoqrRsMmoRK",
        "outputId": "98f44035-c1db-4298-eb99-ff363ea20188"
      },
      "source": [
        "dataset['Gender'].value_counts()"
      ],
      "execution_count": 8,
      "outputs": [
        {
          "output_type": "execute_result",
          "data": {
            "text/plain": [
              "0    536\n",
              "1    488\n",
              "Name: Gender, dtype: int64"
            ]
          },
          "metadata": {},
          "execution_count": 8
        }
      ]
    },
    {
      "cell_type": "code",
      "metadata": {
        "colab": {
          "base_uri": "https://localhost:8080/",
          "height": 353
        },
        "id": "3m60hQWFmQHC",
        "outputId": "85392818-d201-4dd7-87c1-b9d18bbe82de"
      },
      "source": [
        "seaborn.countplot(dataset['Gender'])"
      ],
      "execution_count": 9,
      "outputs": [
        {
          "output_type": "stream",
          "name": "stderr",
          "text": [
            "/usr/local/lib/python3.7/dist-packages/seaborn/_decorators.py:43: FutureWarning: Pass the following variable as a keyword arg: x. From version 0.12, the only valid positional argument will be `data`, and passing other arguments without an explicit keyword will result in an error or misinterpretation.\n",
            "  FutureWarning\n"
          ]
        },
        {
          "output_type": "execute_result",
          "data": {
            "text/plain": [
              "<matplotlib.axes._subplots.AxesSubplot at 0x7f77f1778150>"
            ]
          },
          "metadata": {},
          "execution_count": 9
        },
        {
          "output_type": "display_data",
          "data": {
            "text/plain": [
              "<Figure size 432x288 with 1 Axes>"
            ],
            "image/png": "[encoded data removed]"
          },
          "metadata": {
            "needs_background": "light"
          }
        }
      ]
    },
    {
      "cell_type": "code",
      "metadata": {
        "colab": {
          "base_uri": "https://localhost:8080/",
          "height": 353
        },
        "id": "BUCqcearnDFm",
        "outputId": "a240c5bd-421a-4d00-fa91-293d7658eccc"
      },
      "source": [
        "seaborn.countplot(dataset['Age'])"
      ],
      "execution_count": 10,
      "outputs": [
        {
          "output_type": "stream",
          "name": "stderr",
          "text": [
            "/usr/local/lib/python3.7/dist-packages/seaborn/_decorators.py:43: FutureWarning: Pass the following variable as a keyword arg: x. From version 0.12, the only valid positional argument will be `data`, and passing other arguments without an explicit keyword will result in an error or misinterpretation.\n",
            "  FutureWarning\n"
          ]
        },
        {
          "output_type": "execute_result",
          "data": {
            "text/plain": [
              "<matplotlib.axes._subplots.AxesSubplot at 0x7f77f126f4d0>"
            ]
          },
          "metadata": {},
          "execution_count": 10
        },
        {
          "output_type": "display_data",
          "data": {
            "text/plain": [
              "<Figure size 432x288 with 1 Axes>"
            ],
            "image/png": "[encoded data removed]"
          },
          "metadata": {
            "needs_background": "light"
          }
        }
      ]
    },
    {
      "cell_type": "code",
      "metadata": {
        "colab": {
          "base_uri": "https://localhost:8080/",
          "height": 353
        },
        "id": "is6uoWp6nQa5",
        "outputId": "321f3478-a344-495e-db2d-673d16ffabef"
      },
      "source": [
        "seaborn.countplot(dataset['openness'])"
      ],
      "execution_count": 11,
      "outputs": [
        {
          "output_type": "stream",
          "name": "stderr",
          "text": [
            "/usr/local/lib/python3.7/dist-packages/seaborn/_decorators.py:43: FutureWarning: Pass the following variable as a keyword arg: x. From version 0.12, the only valid positional argument will be `data`, and passing other arguments without an explicit keyword will result in an error or misinterpretation.\n",
            "  FutureWarning\n"
          ]
        },
        {
          "output_type": "execute_result",
          "data": {
            "text/plain": [
              "<matplotlib.axes._subplots.AxesSubplot at 0x7f77f1220ed0>"
            ]
          },
          "metadata": {},
          "execution_count": 11
        },
        {
          "output_type": "display_data",
          "data": {
            "text/plain": [
              "<Figure size 432x288 with 1 Axes>"
            ],
            "image/png": "[encoded data removed]"
          },
          "metadata": {
            "needs_background": "light"
          }
        }
      ]
    },
    {
      "cell_type": "code",
      "metadata": {
        "colab": {
          "base_uri": "https://localhost:8080/",
          "height": 353
        },
        "id": "su3tw8DdnWGc",
        "outputId": "7d179230-4735-4618-ba2a-767a9f0ad704"
      },
      "source": [
        "seaborn.countplot(dataset['neuroticism'])"
      ],
      "execution_count": 12,
      "outputs": [
        {
          "output_type": "stream",
          "name": "stderr",
          "text": [
            "/usr/local/lib/python3.7/dist-packages/seaborn/_decorators.py:43: FutureWarning: Pass the following variable as a keyword arg: x. From version 0.12, the only valid positional argument will be `data`, and passing other arguments without an explicit keyword will result in an error or misinterpretation.\n",
            "  FutureWarning\n"
          ]
        },
        {
          "output_type": "execute_result",
          "data": {
            "text/plain": [
              "<matplotlib.axes._subplots.AxesSubplot at 0x7f77f1198b90>"
            ]
          },
          "metadata": {},
          "execution_count": 12
        },
        {
          "output_type": "display_data",
          "data": {
            "text/plain": [
              "<Figure size 432x288 with 1 Axes>"
            ],
            "image/png": "[encoded data removed]"
          },
          "metadata": {
            "needs_background": "light"
          }
        }
      ]
    },
    {
      "cell_type": "code",
      "metadata": {
        "colab": {
          "base_uri": "https://localhost:8080/",
          "height": 357
        },
        "id": "bETgvWPIDzCg",
        "outputId": "8d118123-e5a4-4495-e6b3-c0e88e0ef890"
      },
      "source": [
        "seaborn.countplot(dataset['conscientiousness'])"
      ],
      "execution_count": 13,
      "outputs": [
        {
          "output_type": "stream",
          "name": "stderr",
          "text": [
            "/usr/local/lib/python3.7/dist-packages/seaborn/_decorators.py:43: FutureWarning: Pass the following variable as a keyword arg: x. From version 0.12, the only valid positional argument will be `data`, and passing other arguments without an explicit keyword will result in an error or misinterpretation.\n",
            "  FutureWarning\n"
          ]
        },
        {
          "output_type": "execute_result",
          "data": {
            "text/plain": [
              "<matplotlib.axes._subplots.AxesSubplot at 0x7f77f10b4e10>"
            ]
          },
          "metadata": {},
          "execution_count": 13
        },
        {
          "output_type": "display_data",
          "data": {
            "text/plain": [
              "<Figure size 432x288 with 1 Axes>"
            ],
            "image/png": "[encoded data removed]"
          },
          "metadata": {
            "needs_background": "light"
          }
        }
      ]
    },
    {
      "cell_type": "code",
      "metadata": {
        "colab": {
          "base_uri": "https://localhost:8080/",
          "height": 355
        },
        "id": "TgbQPVDaoEzh",
        "outputId": "863544bb-5e8a-42b9-d988-0594f53c5161"
      },
      "source": [
        "seaborn.countplot(dataset['agreeableness'])"
      ],
      "execution_count": 14,
      "outputs": [
        {
          "output_type": "stream",
          "name": "stderr",
          "text": [
            "/usr/local/lib/python3.7/dist-packages/seaborn/_decorators.py:43: FutureWarning: Pass the following variable as a keyword arg: x. From version 0.12, the only valid positional argument will be `data`, and passing other arguments without an explicit keyword will result in an error or misinterpretation.\n",
            "  FutureWarning\n"
          ]
        },
        {
          "output_type": "execute_result",
          "data": {
            "text/plain": [
              "<matplotlib.axes._subplots.AxesSubplot at 0x7f77f1049050>"
            ]
          },
          "metadata": {},
          "execution_count": 14
        },
        {
          "output_type": "display_data",
          "data": {
            "text/plain": [
              "<Figure size 432x288 with 1 Axes>"
            ],
            "image/png": "[encoded data removed]"
          },
          "metadata": {
            "needs_background": "light"
          }
        }
      ]
    },
    {
      "cell_type": "code",
      "metadata": {
        "colab": {
          "base_uri": "https://localhost:8080/",
          "height": 353
        },
        "id": "h2c27rmXoL2w",
        "outputId": "8c1013ce-ebd0-47b0-c54f-725687d0812f"
      },
      "source": [
        "seaborn.countplot(dataset['extraversion'])"
      ],
      "execution_count": 15,
      "outputs": [
        {
          "output_type": "stream",
          "name": "stderr",
          "text": [
            "/usr/local/lib/python3.7/dist-packages/seaborn/_decorators.py:43: FutureWarning: Pass the following variable as a keyword arg: x. From version 0.12, the only valid positional argument will be `data`, and passing other arguments without an explicit keyword will result in an error or misinterpretation.\n",
            "  FutureWarning\n"
          ]
        },
        {
          "output_type": "execute_result",
          "data": {
            "text/plain": [
              "<matplotlib.axes._subplots.AxesSubplot at 0x7f77f0fcd910>"
            ]
          },
          "metadata": {},
          "execution_count": 15
        },
        {
          "output_type": "display_data",
          "data": {
            "text/plain": [
              "<Figure size 432x288 with 1 Axes>"
            ],
            "image/png": "[encoded data removed]"
          },
          "metadata": {
            "needs_background": "light"
          }
        }
      ]
    },
    {
      "cell_type": "code",
      "metadata": {
        "colab": {
          "base_uri": "https://localhost:8080/",
          "height": 356
        },
        "id": "B8i1nLwDn3cu",
        "outputId": "1a2734d4-bbc0-44ba-ec29-ed1849b49e0d"
      },
      "source": [
        "seaborn.countplot(dataset['personality'])"
      ],
      "execution_count": 16,
      "outputs": [
        {
          "output_type": "stream",
          "name": "stderr",
          "text": [
            "/usr/local/lib/python3.7/dist-packages/seaborn/_decorators.py:43: FutureWarning: Pass the following variable as a keyword arg: x. From version 0.12, the only valid positional argument will be `data`, and passing other arguments without an explicit keyword will result in an error or misinterpretation.\n",
            "  FutureWarning\n"
          ]
        },
        {
          "output_type": "execute_result",
          "data": {
            "text/plain": [
              "<matplotlib.axes._subplots.AxesSubplot at 0x7f77f0f3f790>"
            ]
          },
          "metadata": {},
          "execution_count": 16
        },
        {
          "output_type": "display_data",
          "data": {
            "text/plain": [
              "<Figure size 432x288 with 1 Axes>"
            ],
            "image/png": "[encoded data removed]"
          },
          "metadata": {
            "needs_background": "light"
          }
        }
      ]
    },
    {
      "cell_type": "code",
      "metadata": {
        "colab": {
          "base_uri": "https://localhost:8080/",
          "height": 297
        },
        "id": "OF8rs_zNEKqC",
        "outputId": "9227de49-5910-4aa2-b773-241d84c2d2f3"
      },
      "source": [
        "seaborn.countplot(x='personality',hue='Gender',data=dataset,palette='colorblind',edgecolor=seaborn.color_palette('dark',n_colors=1))"
      ],
      "execution_count": 17,
      "outputs": [
        {
          "output_type": "execute_result",
          "data": {
            "text/plain": [
              "<matplotlib.axes._subplots.AxesSubplot at 0x7f77f0ea9e50>"
            ]
          },
          "metadata": {},
          "execution_count": 17
        },
        {
          "output_type": "display_data",
          "data": {
            "text/plain": [
              "<Figure size 432x288 with 1 Axes>"
            ],
            "image/png": "[encoded data removed]"
          },
          "metadata": {
            "needs_background": "light"
          }
        }
      ]
    },
    {
      "cell_type": "code",
      "metadata": {
        "colab": {
          "base_uri": "https://localhost:8080/",
          "height": 298
        },
        "id": "ryWRKOgooeGu",
        "outputId": "5f31dddc-88b0-44be-b1f8-2257268eea6b"
      },
      "source": [
        "seaborn.countplot(x='personality',hue='Age',data=dataset,palette='colorblind',edgecolor=seaborn.color_palette('dark',n_colors=1))"
      ],
      "execution_count": 18,
      "outputs": [
        {
          "output_type": "execute_result",
          "data": {
            "text/plain": [
              "<matplotlib.axes._subplots.AxesSubplot at 0x7f77f0f03f10>"
            ]
          },
          "metadata": {},
          "execution_count": 18
        },
        {
          "output_type": "display_data",
          "data": {
            "text/plain": [
              "<Figure size 432x288 with 1 Axes>"
            ],
            "image/png": "[encoded data removed]"
          },
          "metadata": {
            "needs_background": "light"
          }
        }
      ]
    },
    {
      "cell_type": "code",
      "metadata": {
        "colab": {
          "base_uri": "https://localhost:8080/",
          "height": 297
        },
        "id": "tYu-0aLYovPm",
        "outputId": "a383f8cd-6db1-4589-aa61-8f2c805d0125"
      },
      "source": [
        "seaborn.countplot(x='personality',hue='openness',data=dataset,palette='colorblind',edgecolor=seaborn.color_palette('dark',n_colors=1))"
      ],
      "execution_count": 19,
      "outputs": [
        {
          "output_type": "execute_result",
          "data": {
            "text/plain": [
              "<matplotlib.axes._subplots.AxesSubplot at 0x7f77f0d14a10>"
            ]
          },
          "metadata": {},
          "execution_count": 19
        },
        {
          "output_type": "display_data",
          "data": {
            "text/plain": [
              "<Figure size 432x288 with 1 Axes>"
            ],
            "image/png": "[encoded data removed]"
          },
          "metadata": {
            "needs_background": "light"
          }
        }
      ]
    },
    {
      "cell_type": "code",
      "metadata": {
        "colab": {
          "base_uri": "https://localhost:8080/",
          "height": 297
        },
        "id": "_MbCPU6Do6Zp",
        "outputId": "d4d671a6-f07e-4a12-bfa0-b0c14135fe0d"
      },
      "source": [
        "seaborn.countplot(x='personality',hue='neuroticism',data=dataset,palette='colorblind',edgecolor=seaborn.color_palette('dark',n_colors=1))"
      ],
      "execution_count": 20,
      "outputs": [
        {
          "output_type": "execute_result",
          "data": {
            "text/plain": [
              "<matplotlib.axes._subplots.AxesSubplot at 0x7f77f0c18bd0>"
            ]
          },
          "metadata": {},
          "execution_count": 20
        },
        {
          "output_type": "display_data",
          "data": {
            "text/plain": [
              "<Figure size 432x288 with 1 Axes>"
            ],
            "image/png": "[encoded data removed]"
          },
          "metadata": {
            "needs_background": "light"
          }
        }
      ]
    },
    {
      "cell_type": "code",
      "metadata": {
        "colab": {
          "base_uri": "https://localhost:8080/",
          "height": 297
        },
        "id": "HVS5nPZipLzG",
        "outputId": "5100fb7c-393e-4413-87fb-52d999615f16"
      },
      "source": [
        "seaborn.countplot(x='personality',hue='conscientiousness',data=dataset,palette='colorblind',edgecolor=seaborn.color_palette('dark',n_colors=1))"
      ],
      "execution_count": 21,
      "outputs": [
        {
          "output_type": "execute_result",
          "data": {
            "text/plain": [
              "<matplotlib.axes._subplots.AxesSubplot at 0x7f77f0b655d0>"
            ]
          },
          "metadata": {},
          "execution_count": 21
        },
        {
          "output_type": "display_data",
          "data": {
            "text/plain": [
              "<Figure size 432x288 with 1 Axes>"
            ],
            "image/png": "[encoded data removed]"
          },
          "metadata": {
            "needs_background": "light"
          }
        }
      ]
    },
    {
      "cell_type": "code",
      "metadata": {
        "colab": {
          "base_uri": "https://localhost:8080/",
          "height": 297
        },
        "id": "jMPqsSKKpVzV",
        "outputId": "224cb281-603f-4ace-8c63-841055e8de7b"
      },
      "source": [
        "seaborn.countplot(x='personality',hue='agreeableness',data=dataset,palette='colorblind',edgecolor=seaborn.color_palette('dark',n_colors=1))"
      ],
      "execution_count": 22,
      "outputs": [
        {
          "output_type": "execute_result",
          "data": {
            "text/plain": [
              "<matplotlib.axes._subplots.AxesSubplot at 0x7f77f09d2150>"
            ]
          },
          "metadata": {},
          "execution_count": 22
        },
        {
          "output_type": "display_data",
          "data": {
            "text/plain": [
              "<Figure size 432x288 with 1 Axes>"
            ],
            "image/png": "[encoded data removed]"
          },
          "metadata": {
            "needs_background": "light"
          }
        }
      ]
    },
    {
      "cell_type": "code",
      "metadata": {
        "colab": {
          "base_uri": "https://localhost:8080/",
          "height": 298
        },
        "id": "FebVuq03pqnr",
        "outputId": "acd55075-1314-41dc-e96d-5d4fcd71b971"
      },
      "source": [
        "seaborn.countplot(x='personality',hue='extraversion',data=dataset,palette='colorblind',edgecolor=seaborn.color_palette('dark',n_colors=1))"
      ],
      "execution_count": 23,
      "outputs": [
        {
          "output_type": "execute_result",
          "data": {
            "text/plain": [
              "<matplotlib.axes._subplots.AxesSubplot at 0x7f77f08d6e10>"
            ]
          },
          "metadata": {},
          "execution_count": 23
        },
        {
          "output_type": "display_data",
          "data": {
            "text/plain": [
              "<Figure size 432x288 with 1 Axes>"
            ],
            "image/png": "[encoded data removed]"
          },
          "metadata": {
            "needs_background": "light"
          }
        }
      ]
    },
    {
      "cell_type": "markdown",
      "metadata": {
        "id": "-PsGnq8R0E_7"
      },
      "source": [
        "**Train Test Split**"
      ]
    },
    {
      "cell_type": "code",
      "metadata": {
        "id": "zB5oKNUk0dVS"
      },
      "source": [
        "from sklearn.model_selection import train_test_split\n",
        "X_train, X_test, y_train, y_test = train_test_split(X, y, test_size=0.20,random_state=1)"
      ],
      "execution_count": 24,
      "outputs": []
    },
    {
      "cell_type": "markdown",
      "metadata": {
        "id": "cTPwZSI-0k3a"
      },
      "source": [
        "**Feature Scaling**"
      ]
    },
    {
      "cell_type": "code",
      "metadata": {
        "id": "sx97iyeb0mL7"
      },
      "source": [
        "from sklearn.preprocessing import StandardScaler\n",
        "scaler = StandardScaler()\n",
        "scaler.fit(X_train)\n",
        "\n",
        "X_train = scaler.transform(X_train)\n",
        "X_test = scaler.transform(X_test)"
      ],
      "execution_count": 25,
      "outputs": []
    },
    {
      "cell_type": "markdown",
      "metadata": {
        "id": "JROXRkxq1LUQ"
      },
      "source": [
        "**Training and Predictions**"
      ]
    },
    {
      "cell_type": "code",
      "metadata": {
        "id": "4EeQp0ii1O3E"
      },
      "source": [
        "from sklearn.neighbors import KNeighborsClassifier\n",
        "classifier = KNeighborsClassifier(n_neighbors=5)\n",
        "classifier.fit(X_train, y_train)\n",
        "\n",
        "y_pred = classifier.predict(X_test)"
      ],
      "execution_count": 26,
      "outputs": []
    },
    {
      "cell_type": "markdown",
      "metadata": {
        "id": "bc7vMddJ1f9T"
      },
      "source": [
        "Evaluating the Algorithm ***KNN***"
      ]
    },
    {
      "cell_type": "code",
      "metadata": {
        "colab": {
          "base_uri": "https://localhost:8080/"
        },
        "id": "LA1ZPZTL1hJ0",
        "outputId": "8f5154ec-83ce-4258-8a50-91ef99c6a698"
      },
      "source": [
        "from sklearn.metrics import classification_report, confusion_matrix\n",
        "print(confusion_matrix(y_test, y_pred))\n",
        "print(classification_report(y_test, y_pred))"
      ],
      "execution_count": 27,
      "outputs": [
        {
          "output_type": "stream",
          "name": "stdout",
          "text": [
            "[[31  2  1  1  0]\n",
            " [ 3 73  1  3  2]\n",
            " [ 0  8  5  1  0]\n",
            " [ 6  5  0 15  3]\n",
            " [ 5  9  1  7 23]]\n",
            "              precision    recall  f1-score   support\n",
            "\n",
            "           0       0.69      0.89      0.78        35\n",
            "           1       0.75      0.89      0.82        82\n",
            "           2       0.62      0.36      0.45        14\n",
            "           3       0.56      0.52      0.54        29\n",
            "           4       0.82      0.51      0.63        45\n",
            "\n",
            "    accuracy                           0.72       205\n",
            "   macro avg       0.69      0.63      0.64       205\n",
            "weighted avg       0.72      0.72      0.70       205\n",
            "\n"
          ]
        }
      ]
    },
    {
      "cell_type": "markdown",
      "metadata": {
        "id": "RoBFgf--1qWN"
      },
      "source": [
        "\n",
        "\n",
        "\n",
        "\n",
        "\n",
        "\n",
        "\n",
        "\n",
        "\n",
        "\n",
        "\n",
        "**Comparing Error Rate with the K Value**"
      ]
    },
    {
      "cell_type": "code",
      "metadata": {
        "id": "53qr-dny2B83"
      },
      "source": [
        "error = []\n",
        "\n",
        "# Calculating error for K values between 1 and 40\n",
        "for i in range(1, 40):\n",
        "    knn = KNeighborsClassifier(n_neighbors=i)\n",
        "    knn.fit(X_train, y_train)\n",
        "    pred_i = knn.predict(X_test)\n",
        "    error.append(np.mean(pred_i != y_test))"
      ],
      "execution_count": 28,
      "outputs": []
    },
    {
      "cell_type": "markdown",
      "metadata": {
        "id": "Yuxjnt40zmzi"
      },
      "source": [
        "**Plot the error values against K values**"
      ]
    },
    {
      "cell_type": "code",
      "metadata": {
        "colab": {
          "base_uri": "https://localhost:8080/",
          "height": 422
        },
        "id": "HVafZL7n2NRV",
        "outputId": "11deadb4-f712-4622-e006-5a11dd28920d"
      },
      "source": [
        "plt.figure(figsize=(12, 6))\n",
        "plt.plot(range(1, 40), error, color='red', linestyle='dashed', marker='o',\n",
        "         markerfacecolor='blue', markersize=10)\n",
        "plt.title('Error Rate K Value')\n",
        "plt.xlabel('K Value')\n",
        "plt.ylabel('Mean Error')"
      ],
      "execution_count": 29,
      "outputs": [
        {
          "output_type": "execute_result",
          "data": {
            "text/plain": [
              "Text(0, 0.5, 'Mean Error')"
            ]
          },
          "metadata": {},
          "execution_count": 29
        },
        {
          "output_type": "display_data",
          "data": {
            "text/plain": [
              "<Figure size 864x432 with 1 Axes>"
            ],
            "image/png": "[encoded data removed]"
          },
          "metadata": {
            "needs_background": "light"
          }
        }
      ]
    },
    {
      "cell_type": "code",
      "metadata": {
        "colab": {
          "base_uri": "https://localhost:8080/"
        },
        "id": "inuf2ZDV0ifd",
        "outputId": "e98df3da-ea96-4363-91f3-bf9bad478fbd"
      },
      "source": [
        "knn = KNeighborsClassifier(n_neighbors=9)\n",
        "knn.fit(X_train, y_train)"
      ],
      "execution_count": 30,
      "outputs": [
        {
          "output_type": "execute_result",
          "data": {
            "text/plain": [
              "KNeighborsClassifier(n_neighbors=9)"
            ]
          },
          "metadata": {},
          "execution_count": 30
        }
      ]
    },
    {
      "cell_type": "code",
      "metadata": {
        "colab": {
          "base_uri": "https://localhost:8080/"
        },
        "id": "RVCkpSpihyWm",
        "outputId": "105a08a2-f637-47ca-eeff-7b870be7dc8a"
      },
      "source": [
        "knn.score(X_test,y_test)"
      ],
      "execution_count": 31,
      "outputs": [
        {
          "output_type": "execute_result",
          "data": {
            "text/plain": [
              "0.7658536585365854"
            ]
          },
          "metadata": {},
          "execution_count": 31
        }
      ]
    },
    {
      "cell_type": "markdown",
      "metadata": {
        "id": "-Fm5rQTHRT39"
      },
      "source": [
        "**Importing DecissionTreeClassifier Library**"
      ]
    },
    {
      "cell_type": "code",
      "metadata": {
        "id": "QyB1pxl1KyyV"
      },
      "source": [
        "from sklearn.tree import DecisionTreeClassifier"
      ],
      "execution_count": 32,
      "outputs": []
    },
    {
      "cell_type": "markdown",
      "metadata": {
        "id": "vu5gqC-TReBF"
      },
      "source": [
        "**Separating the Feature Columns from the Target Vector**"
      ]
    },
    {
      "cell_type": "code",
      "metadata": {
        "colab": {
          "base_uri": "https://localhost:8080/"
        },
        "id": "M94ptm3zLHAn",
        "outputId": "6f9eb810-8a87-4626-e1f3-59b81f072196"
      },
      "source": [
        "features = ['Gender', 'Age', 'openness', 'neuroticism', 'conscientiousness', 'agreeableness', 'extraversion']\n",
        "\n",
        "X = X[features]\n",
        "y = y\n",
        "\n",
        "print(X)\n",
        "print(y)"
      ],
      "execution_count": 33,
      "outputs": [
        {
          "output_type": "stream",
          "name": "stdout",
          "text": [
            "      Gender  Age  openness  neuroticism  conscientiousness  agreeableness  \\\n",
            "0          1    2         4            6                  6              5   \n",
            "1          1    2         4            6                  4              5   \n",
            "2          1    3         5            6                  4              5   \n",
            "3          0    3         5            6                  4              4   \n",
            "4          1    3         4            5                  3              5   \n",
            "...      ...  ...       ...          ...                ...            ...   \n",
            "1019       0    9         2            1                  3              3   \n",
            "1020       0    1         3            3                  3              3   \n",
            "1021       1    3         3            3                  3              3   \n",
            "1022       1    6         2            3                  2              3   \n",
            "1023       1    2         3            3                  3              3   \n",
            "\n",
            "      extraversion  \n",
            "0                3  \n",
            "1                6  \n",
            "2                2  \n",
            "3                4  \n",
            "4                2  \n",
            "...            ...  \n",
            "1019             2  \n",
            "1020             3  \n",
            "1021             2  \n",
            "1022             2  \n",
            "1023             3  \n",
            "\n",
            "[1024 rows x 7 columns]\n",
            "0       0\n",
            "1       0\n",
            "2       0\n",
            "3       0\n",
            "4       0\n",
            "       ..\n",
            "1019    4\n",
            "1020    1\n",
            "1021    1\n",
            "1022    0\n",
            "1023    1\n",
            "Name: personality, Length: 1024, dtype: int64\n"
          ]
        }
      ]
    },
    {
      "cell_type": "markdown",
      "metadata": {
        "id": "DUB6lZs2PyjG"
      },
      "source": [
        "Evaluating the Algorithm ***Decision Tree***"
      ]
    },
    {
      "cell_type": "code",
      "metadata": {
        "colab": {
          "base_uri": "https://localhost:8080/",
          "height": 121
        },
        "id": "MexIF4MQLMaN",
        "outputId": "73433bd6-a5fa-4604-b604-ff44a2f5bf7d"
      },
      "source": [
        "dtree = DecisionTreeClassifier()\n",
        "dtree = dtree.fit(X, y)\n",
        "data = tree.export_graphviz(dtree, out_file=None, feature_names=features)\n",
        "graph = pydotplus.graph_from_dot_data(data)\n",
        "graph.write_png('mydecisiontree.png')\n",
        "\n",
        "img=pltimg.imread('mydecisiontree.png')\n",
        "imgplot = plt.imshow(img)\n",
        "plt.show()"
      ],
      "execution_count": 34,
      "outputs": [
        {
          "output_type": "display_data",
          "data": {
            "text/plain": [
              "<Figure size 432x288 with 1 Axes>"
            ],
            "image/png": "[encoded data removed]"
          },
          "metadata": {
            "needs_background": "light"
          }
        }
      ]
    },
    {
      "cell_type": "code",
      "metadata": {
        "colab": {
          "base_uri": "https://localhost:8080/"
        },
        "id": "evtGt2FnLQiG",
        "outputId": "4182a1fa-ee3b-4594-b085-de0b71e63fa6"
      },
      "source": [
        "print(dtree.predict([[2, 6, 7, 5, 4, 6, 3]]))"
      ],
      "execution_count": 35,
      "outputs": [
        {
          "output_type": "stream",
          "name": "stdout",
          "text": [
            "[3]\n"
          ]
        },
        {
          "output_type": "stream",
          "name": "stderr",
          "text": [
            "/usr/local/lib/python3.7/dist-packages/sklearn/base.py:451: UserWarning: X does not have valid feature names, but DecisionTreeClassifier was fitted with feature names\n",
            "  \"X does not have valid feature names, but\"\n"
          ]
        }
      ]
    },
    {
      "cell_type": "code",
      "metadata": {
        "colab": {
          "base_uri": "https://localhost:8080/"
        },
        "id": "PbYaEVWrfblV",
        "outputId": "a873bd47-741b-4959-9f96-7ebd2756a5b0"
      },
      "source": [
        "dtree.score(X_test,y_test)"
      ],
      "execution_count": 37,
      "outputs": [
        {
          "output_type": "stream",
          "name": "stderr",
          "text": [
            "/usr/local/lib/python3.7/dist-packages/sklearn/base.py:451: UserWarning: X does not have valid feature names, but DecisionTreeClassifier was fitted with feature names\n",
            "  \"X does not have valid feature names, but\"\n"
          ]
        },
        {
          "output_type": "execute_result",
          "data": {
            "text/plain": [
              "0.14146341463414633"
            ]
          },
          "metadata": {},
          "execution_count": 37
        }
      ]
    },
    {
      "cell_type": "markdown",
      "metadata": {
        "id": "GL0bm2huPnP-"
      },
      "source": [
        "Evaluating the Algorithm ***Naive Bayes***"
      ]
    },
    {
      "cell_type": "code",
      "metadata": {
        "colab": {
          "base_uri": "https://localhost:8080/"
        },
        "id": "7502hwCSN8kw",
        "outputId": "799f3d62-7a66-49f9-9623-d35d70ae69ec"
      },
      "source": [
        "from sklearn.naive_bayes import GaussianNB \n",
        "gnb = GaussianNB() \n",
        "gnb.fit(X_train, y_train) "
      ],
      "execution_count": 38,
      "outputs": [
        {
          "output_type": "execute_result",
          "data": {
            "text/plain": [
              "GaussianNB()"
            ]
          },
          "metadata": {},
          "execution_count": 38
        }
      ]
    },
    {
      "cell_type": "markdown",
      "metadata": {
        "id": "GmbXKKxTQoUm"
      },
      "source": [
        "**Making predictions on the testing set**"
      ]
    },
    {
      "cell_type": "code",
      "metadata": {
        "id": "JaXHArQnQd8V"
      },
      "source": [
        "y_pred = gnb.predict(X_test) "
      ],
      "execution_count": 39,
      "outputs": []
    },
    {
      "cell_type": "markdown",
      "metadata": {
        "id": "MNoNm-eXQ9Et"
      },
      "source": [
        "**Comparing actual response values (y_test) with predicted response values (y_pred)**"
      ]
    },
    {
      "cell_type": "code",
      "metadata": {
        "colab": {
          "base_uri": "https://localhost:8080/"
        },
        "id": "n32wMyBfQ8G_",
        "outputId": "0870be97-0354-4f73-e829-8e476882aca5"
      },
      "source": [
        "from sklearn import metrics \n",
        "print(\"Gaussian Naive Bayes model accuracy(in %):\", metrics.accuracy_score(y_test, y_pred)*100)"
      ],
      "execution_count": 40,
      "outputs": [
        {
          "output_type": "stream",
          "name": "stdout",
          "text": [
            "Gaussian Naive Bayes model accuracy(in %): 89.75609756097562\n"
          ]
        }
      ]
    },
    {
      "cell_type": "markdown",
      "metadata": {
        "id": "xvFl22izcayq"
      },
      "source": [
        "Evaluating the Algorithm ***SVM***"
      ]
    },
    {
      "cell_type": "code",
      "metadata": {
        "colab": {
          "base_uri": "https://localhost:8080/"
        },
        "id": "1KmhJ0N7clc0",
        "outputId": "99e9414f-14f9-4a3e-8318-c62574abaebf"
      },
      "source": [
        "from sklearn.svm import SVC\n",
        "sv=SVC(C=1.0, kernel='linear', degree=3, gamma='auto')\n",
        "sv.fit(X_train, y_train)\n",
        "sv.score(X_test,y_test)"
      ],
      "execution_count": 41,
      "outputs": [
        {
          "output_type": "execute_result",
          "data": {
            "text/plain": [
              "0.9463414634146341"
            ]
          },
          "metadata": {},
          "execution_count": 41
        }
      ]
    },
    {
      "cell_type": "markdown",
      "metadata": {
        "id": "n9UMctdvg8YR"
      },
      "source": [
        "Evaluating the Algorithm ***Random Forest***"
      ]
    },
    {
      "cell_type": "code",
      "metadata": {
        "colab": {
          "base_uri": "https://localhost:8080/"
        },
        "id": "7GeXgbrWhDhA",
        "outputId": "30787413-c86d-49c6-d0f0-beed23c5a3bd"
      },
      "source": [
        "from sklearn.ensemble import RandomForestClassifier\n",
        "rf=RandomForestClassifier()\n",
        "rf.fit(X_train, y_train)\n",
        "rf.score(X_test,y_test)"
      ],
      "execution_count": 47,
      "outputs": [
        {
          "output_type": "execute_result",
          "data": {
            "text/plain": [
              "0.9560975609756097"
            ]
          },
          "metadata": {},
          "execution_count": 47
        }
      ]
    },
    {
      "cell_type": "markdown",
      "metadata": {
        "id": "f3z-k3ezq_Wx"
      },
      "source": [
        "**Accuracy Comparison**"
      ]
    },
    {
      "cell_type": "code",
      "metadata": {
        "colab": {
          "base_uri": "https://localhost:8080/"
        },
        "id": "YTRtBPfNrO_e",
        "outputId": "5d4dc971-072e-46a2-ebfd-b25c412417f6"
      },
      "source": [
        "print(\"Decision Tree: \", dtree.score(X_test,y_test)*100,\"%\")\n",
        "print(\"KNN: \",knn.score(X_test,y_test)*100,\"%\")\n",
        "print(\"Gousian Naive Bayes: \", gnb.score(X_test,y_test)*100,\"%\")\n",
        "print(\"SVM: \", sv.score(X_test,y_test)*100,\"%\")\n",
        "print(\"Random Forest: \", rf.score(X_test,y_test)*100,\"%\")"
      ],
      "execution_count": 46,
      "outputs": [
        {
          "output_type": "stream",
          "name": "stdout",
          "text": [
            "Decision Tree:  14.146341463414632 %\n",
            "KNN:  76.58536585365854 %\n",
            "Gousian Naive Bayes:  89.75609756097562 %\n",
            "SVM:  94.6341463414634 %\n",
            "Random Forest:  96.58536585365853 %\n"
          ]
        },
        {
          "output_type": "stream",
          "name": "stderr",
          "text": [
            "/usr/local/lib/python3.7/dist-packages/sklearn/base.py:451: UserWarning: X does not have valid feature names, but DecisionTreeClassifier was fitted with feature names\n",
            "  \"X does not have valid feature names, but\"\n"
          ]
        }
      ]
    },
    {
      "cell_type": "markdown",
      "metadata": {
        "id": "NQlYjII5xk0s"
      },
      "source": [
        "**Testing with random data**"
      ]
    },
    {
      "cell_type": "code",
      "metadata": {
        "colab": {
          "base_uri": "https://localhost:8080/"
        },
        "id": "BJWFb-nqu2gK",
        "outputId": "d69a8c28-6435-424c-f60f-111944b5c34c"
      },
      "source": [
        "print(\"Random Forest: \", rf.predict([[1 ,2  ,4  ,6  ,6  ,5  ,3]]))\n",
        "print(\"SVM: \", sv.predict([[1   ,2  ,4  ,6  ,6  ,5  ,3]]))\n",
        "print(\"Gousian Naive Bayes: \", gnb.predict([[1  ,2  ,4  ,6  ,6  ,5  ,3]]))\n",
        "print(\"KNN: \", knn.predict([[1  ,2  ,4  ,6  ,6  ,5  ,3]]))\n",
        "print(\"Decision Tree: \", dtree.predict([[1  ,2  ,4  ,6  ,6  ,5  ,3]]))"
      ],
      "execution_count": 45,
      "outputs": [
        {
          "output_type": "stream",
          "name": "stdout",
          "text": [
            "Random Forest:  [1]\n",
            "SVM:  [0]\n",
            "Gousian Naive Bayes:  [1]\n",
            "KNN:  [1]\n",
            "Decision Tree:  [0]\n"
          ]
        },
        {
          "output_type": "stream",
          "name": "stderr",
          "text": [
            "/usr/local/lib/python3.7/dist-packages/sklearn/base.py:451: UserWarning: X does not have valid feature names, but DecisionTreeClassifier was fitted with feature names\n",
            "  \"X does not have valid feature names, but\"\n"
          ]
        }
      ]
    },
    {
      "cell_type": "markdown",
      "source": [
        "***ANN***"
      ],
      "metadata": {
        "id": "YC8d5m0wXl2w"
      }
    },
    {
      "cell_type": "markdown",
      "source": [
        "Import Library for ***ANN***"
      ],
      "metadata": {
        "id": "bAXLiYNQbeAY"
      }
    },
    {
      "cell_type": "code",
      "source": [
        "import keras\n",
        "from keras.utils import np_utils\n",
        "import pandas\n",
        "from keras.models import Sequential\n",
        "from keras.layers import Dense\n",
        "from keras.wrappers.scikit_learn import KerasClassifier\n",
        "from keras.utils import np_utils\n",
        "from sklearn.model_selection import cross_val_score\n",
        "from sklearn.model_selection import KFold\n",
        "from sklearn.preprocessing import LabelEncoder\n",
        "from sklearn.pipeline import Pipeline\n"
      ],
      "metadata": {
        "id": "kl73lmlUfZs_"
      },
      "execution_count": 64,
      "outputs": []
    },
    {
      "cell_type": "code",
      "source": [
        "dummy_y = np_utils.to_categorical(y)"
      ],
      "metadata": {
        "id": "zoRi5-eMfa-Y"
      },
      "execution_count": 65,
      "outputs": []
    },
    {
      "cell_type": "code",
      "source": [
        "dummy_y"
      ],
      "metadata": {
        "colab": {
          "base_uri": "https://localhost:8080/"
        },
        "id": "2wsAj295f8V6",
        "outputId": "e4f4efba-f224-4838-d1c1-a85499eea5fb"
      },
      "execution_count": 66,
      "outputs": [
        {
          "output_type": "execute_result",
          "data": {
            "text/plain": [
              "array([[1., 0., 0., 0., 0.],\n",
              "       [1., 0., 0., 0., 0.],\n",
              "       [1., 0., 0., 0., 0.],\n",
              "       ...,\n",
              "       [0., 1., 0., 0., 0.],\n",
              "       [1., 0., 0., 0., 0.],\n",
              "       [0., 1., 0., 0., 0.]], dtype=float32)"
            ]
          },
          "metadata": {},
          "execution_count": 66
        }
      ]
    },
    {
      "cell_type": "markdown",
      "source": [
        "Train Test Split"
      ],
      "metadata": {
        "id": "OgZec8lXRTe5"
      }
    },
    {
      "cell_type": "code",
      "source": [
        "Xtrain, Xtest, ytrain, ytest = train_test_split(X, dummy_y, test_size=0.20,random_state=1)"
      ],
      "metadata": {
        "id": "Z9VSVGYUg0nm"
      },
      "execution_count": 67,
      "outputs": []
    },
    {
      "cell_type": "code",
      "source": [
        "model = Sequential()\n",
        "model.add(Dense(12, input_shape=(7,), activation='relu'))\n",
        "model.add(Dense(8, activation='relu'))\n",
        "model.add(Dense(5, activation='softmax'))"
      ],
      "metadata": {
        "id": "6FiHXQHIbnEL"
      },
      "execution_count": 68,
      "outputs": []
    },
    {
      "cell_type": "code",
      "source": [
        "model.compile(loss='binary_crossentropy', optimizer='adam', metrics=['accuracy'])"
      ],
      "metadata": {
        "id": "zLbxHDeKcU1V"
      },
      "execution_count": 69,
      "outputs": []
    },
    {
      "cell_type": "code",
      "source": [
        "\n",
        "model.fit(Xtrain, ytrain, batch_size = 5, epochs = 200)"
      ],
      "metadata": {
        "colab": {
          "base_uri": "https://localhost:8080/"
        },
        "id": "pablMi3ScheD",
        "outputId": "e9bd6680-9c1c-4836-ff63-c1801aace8ba"
      },
      "execution_count": 70,
      "outputs": [
        {
          "output_type": "stream",
          "name": "stdout",
          "text": [
            "Epoch 1/200\n",
            "164/164 [==============================] - 1s 2ms/step - loss: 0.5651 - accuracy: 0.2259\n",
            "Epoch 2/200\n",
            "164/164 [==============================] - 0s 2ms/step - loss: 0.4498 - accuracy: 0.4188\n",
            "Epoch 3/200\n",
            "164/164 [==============================] - 0s 2ms/step - loss: 0.4224 - accuracy: 0.4701\n",
            "Epoch 4/200\n",
            "164/164 [==============================] - 0s 2ms/step - loss: 0.4046 - accuracy: 0.5067\n",
            "Epoch 5/200\n",
            "164/164 [==============================] - 0s 2ms/step - loss: 0.3870 - accuracy: 0.5458\n",
            "Epoch 6/200\n",
            "164/164 [==============================] - 0s 2ms/step - loss: 0.3695 - accuracy: 0.5824\n",
            "Epoch 7/200\n",
            "164/164 [==============================] - 0s 2ms/step - loss: 0.3548 - accuracy: 0.6081\n",
            "Epoch 8/200\n",
            "164/164 [==============================] - 0s 2ms/step - loss: 0.3403 - accuracy: 0.6484\n",
            "Epoch 9/200\n",
            "164/164 [==============================] - 0s 2ms/step - loss: 0.3307 - accuracy: 0.6557\n",
            "Epoch 10/200\n",
            "164/164 [==============================] - 0s 2ms/step - loss: 0.3204 - accuracy: 0.6972\n",
            "Epoch 11/200\n",
            "164/164 [==============================] - 0s 2ms/step - loss: 0.3108 - accuracy: 0.7045\n",
            "Epoch 12/200\n",
            "164/164 [==============================] - 0s 2ms/step - loss: 0.3020 - accuracy: 0.7277\n",
            "Epoch 13/200\n",
            "164/164 [==============================] - 0s 2ms/step - loss: 0.2964 - accuracy: 0.7387\n",
            "Epoch 14/200\n",
            "164/164 [==============================] - 0s 2ms/step - loss: 0.2879 - accuracy: 0.7473\n",
            "Epoch 15/200\n",
            "164/164 [==============================] - 0s 2ms/step - loss: 0.2832 - accuracy: 0.7582\n",
            "Epoch 16/200\n",
            "164/164 [==============================] - 0s 2ms/step - loss: 0.2780 - accuracy: 0.7595\n",
            "Epoch 17/200\n",
            "164/164 [==============================] - 0s 2ms/step - loss: 0.2721 - accuracy: 0.7680\n",
            "Epoch 18/200\n",
            "164/164 [==============================] - 0s 2ms/step - loss: 0.2660 - accuracy: 0.7766\n",
            "Epoch 19/200\n",
            "164/164 [==============================] - 0s 2ms/step - loss: 0.2623 - accuracy: 0.7802\n",
            "Epoch 20/200\n",
            "164/164 [==============================] - 0s 2ms/step - loss: 0.2593 - accuracy: 0.7949\n",
            "Epoch 21/200\n",
            "164/164 [==============================] - 0s 2ms/step - loss: 0.2534 - accuracy: 0.8095\n",
            "Epoch 22/200\n",
            "164/164 [==============================] - 0s 2ms/step - loss: 0.2514 - accuracy: 0.7985\n",
            "Epoch 23/200\n",
            "164/164 [==============================] - 0s 2ms/step - loss: 0.2481 - accuracy: 0.8132\n",
            "Epoch 24/200\n",
            "164/164 [==============================] - 0s 2ms/step - loss: 0.2455 - accuracy: 0.8046\n",
            "Epoch 25/200\n",
            "164/164 [==============================] - 0s 2ms/step - loss: 0.2407 - accuracy: 0.8291\n",
            "Epoch 26/200\n",
            "164/164 [==============================] - 0s 2ms/step - loss: 0.2376 - accuracy: 0.8230\n",
            "Epoch 27/200\n",
            "164/164 [==============================] - 0s 2ms/step - loss: 0.2339 - accuracy: 0.8437\n",
            "Epoch 28/200\n",
            "164/164 [==============================] - 0s 2ms/step - loss: 0.2307 - accuracy: 0.8315\n",
            "Epoch 29/200\n",
            "164/164 [==============================] - 0s 2ms/step - loss: 0.2253 - accuracy: 0.8437\n",
            "Epoch 30/200\n",
            "164/164 [==============================] - 0s 2ms/step - loss: 0.2239 - accuracy: 0.8510\n",
            "Epoch 31/200\n",
            "164/164 [==============================] - 0s 2ms/step - loss: 0.2195 - accuracy: 0.8596\n",
            "Epoch 32/200\n",
            "164/164 [==============================] - 0s 2ms/step - loss: 0.2167 - accuracy: 0.8523\n",
            "Epoch 33/200\n",
            "164/164 [==============================] - 0s 2ms/step - loss: 0.2152 - accuracy: 0.8584\n",
            "Epoch 34/200\n",
            "164/164 [==============================] - 0s 2ms/step - loss: 0.2128 - accuracy: 0.8571\n",
            "Epoch 35/200\n",
            "164/164 [==============================] - 0s 2ms/step - loss: 0.2099 - accuracy: 0.8632\n",
            "Epoch 36/200\n",
            "164/164 [==============================] - 0s 2ms/step - loss: 0.2064 - accuracy: 0.8694\n",
            "Epoch 37/200\n",
            "164/164 [==============================] - 0s 2ms/step - loss: 0.2040 - accuracy: 0.8706\n",
            "Epoch 38/200\n",
            "164/164 [==============================] - 0s 2ms/step - loss: 0.2027 - accuracy: 0.8694\n",
            "Epoch 39/200\n",
            "164/164 [==============================] - 0s 2ms/step - loss: 0.1989 - accuracy: 0.8742\n",
            "Epoch 40/200\n",
            "164/164 [==============================] - 0s 2ms/step - loss: 0.1979 - accuracy: 0.8767\n",
            "Epoch 41/200\n",
            "164/164 [==============================] - 0s 2ms/step - loss: 0.1946 - accuracy: 0.8791\n",
            "Epoch 42/200\n",
            "164/164 [==============================] - 0s 2ms/step - loss: 0.1926 - accuracy: 0.8828\n",
            "Epoch 43/200\n",
            "164/164 [==============================] - 0s 2ms/step - loss: 0.1927 - accuracy: 0.8767\n",
            "Epoch 44/200\n",
            "164/164 [==============================] - 0s 2ms/step - loss: 0.1900 - accuracy: 0.8877\n",
            "Epoch 45/200\n",
            "164/164 [==============================] - 0s 2ms/step - loss: 0.1891 - accuracy: 0.8852\n",
            "Epoch 46/200\n",
            "164/164 [==============================] - 0s 2ms/step - loss: 0.1871 - accuracy: 0.8816\n",
            "Epoch 47/200\n",
            "164/164 [==============================] - 0s 2ms/step - loss: 0.1843 - accuracy: 0.8950\n",
            "Epoch 48/200\n",
            "164/164 [==============================] - 0s 2ms/step - loss: 0.1833 - accuracy: 0.8987\n",
            "Epoch 49/200\n",
            "164/164 [==============================] - 0s 2ms/step - loss: 0.1804 - accuracy: 0.9023\n",
            "Epoch 50/200\n",
            "164/164 [==============================] - 0s 2ms/step - loss: 0.1815 - accuracy: 0.9035\n",
            "Epoch 51/200\n",
            "164/164 [==============================] - 0s 2ms/step - loss: 0.1789 - accuracy: 0.9084\n",
            "Epoch 52/200\n",
            "164/164 [==============================] - 0s 2ms/step - loss: 0.1792 - accuracy: 0.9035\n",
            "Epoch 53/200\n",
            "164/164 [==============================] - 0s 2ms/step - loss: 0.1769 - accuracy: 0.9048\n",
            "Epoch 54/200\n",
            "164/164 [==============================] - 0s 2ms/step - loss: 0.1743 - accuracy: 0.9011\n",
            "Epoch 55/200\n",
            "164/164 [==============================] - 0s 2ms/step - loss: 0.1758 - accuracy: 0.9109\n",
            "Epoch 56/200\n",
            "164/164 [==============================] - 0s 2ms/step - loss: 0.1729 - accuracy: 0.9060\n",
            "Epoch 57/200\n",
            "164/164 [==============================] - 0s 2ms/step - loss: 0.1708 - accuracy: 0.9096\n",
            "Epoch 58/200\n",
            "164/164 [==============================] - 0s 2ms/step - loss: 0.1704 - accuracy: 0.9048\n",
            "Epoch 59/200\n",
            "164/164 [==============================] - 0s 2ms/step - loss: 0.1706 - accuracy: 0.9011\n",
            "Epoch 60/200\n",
            "164/164 [==============================] - 0s 2ms/step - loss: 0.1696 - accuracy: 0.9170\n",
            "Epoch 61/200\n",
            "164/164 [==============================] - 0s 2ms/step - loss: 0.1695 - accuracy: 0.9096\n",
            "Epoch 62/200\n",
            "164/164 [==============================] - 0s 2ms/step - loss: 0.1680 - accuracy: 0.9182\n",
            "Epoch 63/200\n",
            "164/164 [==============================] - 0s 2ms/step - loss: 0.1675 - accuracy: 0.9084\n",
            "Epoch 64/200\n",
            "164/164 [==============================] - 0s 2ms/step - loss: 0.1656 - accuracy: 0.9158\n",
            "Epoch 65/200\n",
            "164/164 [==============================] - 0s 2ms/step - loss: 0.1646 - accuracy: 0.9158\n",
            "Epoch 66/200\n",
            "164/164 [==============================] - 0s 2ms/step - loss: 0.1663 - accuracy: 0.9194\n",
            "Epoch 67/200\n",
            "164/164 [==============================] - 0s 2ms/step - loss: 0.1637 - accuracy: 0.9158\n",
            "Epoch 68/200\n",
            "164/164 [==============================] - 0s 2ms/step - loss: 0.1646 - accuracy: 0.9194\n",
            "Epoch 69/200\n",
            "164/164 [==============================] - 0s 2ms/step - loss: 0.1630 - accuracy: 0.9158\n",
            "Epoch 70/200\n",
            "164/164 [==============================] - 0s 2ms/step - loss: 0.1618 - accuracy: 0.9194\n",
            "Epoch 71/200\n",
            "164/164 [==============================] - 0s 2ms/step - loss: 0.1619 - accuracy: 0.9145\n",
            "Epoch 72/200\n",
            "164/164 [==============================] - 0s 2ms/step - loss: 0.1616 - accuracy: 0.9194\n",
            "Epoch 73/200\n",
            "164/164 [==============================] - 0s 2ms/step - loss: 0.1613 - accuracy: 0.9206\n",
            "Epoch 74/200\n",
            "164/164 [==============================] - 0s 2ms/step - loss: 0.1594 - accuracy: 0.9255\n",
            "Epoch 75/200\n",
            "164/164 [==============================] - 0s 2ms/step - loss: 0.1575 - accuracy: 0.9219\n",
            "Epoch 76/200\n",
            "164/164 [==============================] - 0s 2ms/step - loss: 0.1582 - accuracy: 0.9170\n",
            "Epoch 77/200\n",
            "164/164 [==============================] - 0s 2ms/step - loss: 0.1590 - accuracy: 0.9219\n",
            "Epoch 78/200\n",
            "164/164 [==============================] - 0s 2ms/step - loss: 0.1564 - accuracy: 0.9194\n",
            "Epoch 79/200\n",
            "164/164 [==============================] - 0s 2ms/step - loss: 0.1563 - accuracy: 0.9255\n",
            "Epoch 80/200\n",
            "164/164 [==============================] - 0s 2ms/step - loss: 0.1558 - accuracy: 0.9267\n",
            "Epoch 81/200\n",
            "164/164 [==============================] - 0s 2ms/step - loss: 0.1562 - accuracy: 0.9255\n",
            "Epoch 82/200\n",
            "164/164 [==============================] - 0s 2ms/step - loss: 0.1545 - accuracy: 0.9219\n",
            "Epoch 83/200\n",
            "164/164 [==============================] - 0s 2ms/step - loss: 0.1548 - accuracy: 0.9206\n",
            "Epoch 84/200\n",
            "164/164 [==============================] - 0s 2ms/step - loss: 0.1545 - accuracy: 0.9182\n",
            "Epoch 85/200\n",
            "164/164 [==============================] - 0s 2ms/step - loss: 0.1540 - accuracy: 0.9206\n",
            "Epoch 86/200\n",
            "164/164 [==============================] - 0s 2ms/step - loss: 0.1534 - accuracy: 0.9231\n",
            "Epoch 87/200\n",
            "164/164 [==============================] - 0s 2ms/step - loss: 0.1539 - accuracy: 0.9158\n",
            "Epoch 88/200\n",
            "164/164 [==============================] - 0s 2ms/step - loss: 0.1509 - accuracy: 0.9255\n",
            "Epoch 89/200\n",
            "164/164 [==============================] - 0s 2ms/step - loss: 0.1521 - accuracy: 0.9231\n",
            "Epoch 90/200\n",
            "164/164 [==============================] - 0s 3ms/step - loss: 0.1508 - accuracy: 0.9231\n",
            "Epoch 91/200\n",
            "164/164 [==============================] - 0s 3ms/step - loss: 0.1523 - accuracy: 0.9231\n",
            "Epoch 92/200\n",
            "164/164 [==============================] - 0s 3ms/step - loss: 0.1507 - accuracy: 0.9267\n",
            "Epoch 93/200\n",
            "164/164 [==============================] - 0s 3ms/step - loss: 0.1502 - accuracy: 0.9231\n",
            "Epoch 94/200\n",
            "164/164 [==============================] - 0s 3ms/step - loss: 0.1502 - accuracy: 0.9267\n",
            "Epoch 95/200\n",
            "164/164 [==============================] - 0s 3ms/step - loss: 0.1490 - accuracy: 0.9255\n",
            "Epoch 96/200\n",
            "164/164 [==============================] - 0s 3ms/step - loss: 0.1486 - accuracy: 0.9292\n",
            "Epoch 97/200\n",
            "164/164 [==============================] - 0s 3ms/step - loss: 0.1474 - accuracy: 0.9231\n",
            "Epoch 98/200\n",
            "164/164 [==============================] - 0s 3ms/step - loss: 0.1470 - accuracy: 0.9316\n",
            "Epoch 99/200\n",
            "164/164 [==============================] - 0s 3ms/step - loss: 0.1475 - accuracy: 0.9243\n",
            "Epoch 100/200\n",
            "164/164 [==============================] - 0s 3ms/step - loss: 0.1480 - accuracy: 0.9219\n",
            "Epoch 101/200\n",
            "164/164 [==============================] - 0s 2ms/step - loss: 0.1478 - accuracy: 0.9341\n",
            "Epoch 102/200\n",
            "164/164 [==============================] - 0s 2ms/step - loss: 0.1461 - accuracy: 0.9255\n",
            "Epoch 103/200\n",
            "164/164 [==============================] - 0s 2ms/step - loss: 0.1469 - accuracy: 0.9255\n",
            "Epoch 104/200\n",
            "164/164 [==============================] - 0s 2ms/step - loss: 0.1455 - accuracy: 0.9280\n",
            "Epoch 105/200\n",
            "164/164 [==============================] - 0s 2ms/step - loss: 0.1459 - accuracy: 0.9316\n",
            "Epoch 106/200\n",
            "164/164 [==============================] - 0s 2ms/step - loss: 0.1430 - accuracy: 0.9341\n",
            "Epoch 107/200\n",
            "164/164 [==============================] - 0s 2ms/step - loss: 0.1435 - accuracy: 0.9255\n",
            "Epoch 108/200\n",
            "164/164 [==============================] - 0s 2ms/step - loss: 0.1451 - accuracy: 0.9267\n",
            "Epoch 109/200\n",
            "164/164 [==============================] - 0s 2ms/step - loss: 0.1435 - accuracy: 0.9243\n",
            "Epoch 110/200\n",
            "164/164 [==============================] - 0s 2ms/step - loss: 0.1430 - accuracy: 0.9328\n",
            "Epoch 111/200\n",
            "164/164 [==============================] - 0s 2ms/step - loss: 0.1425 - accuracy: 0.9328\n",
            "Epoch 112/200\n",
            "164/164 [==============================] - 0s 2ms/step - loss: 0.1432 - accuracy: 0.9304\n",
            "Epoch 113/200\n",
            "164/164 [==============================] - 0s 2ms/step - loss: 0.1424 - accuracy: 0.9316\n",
            "Epoch 114/200\n",
            "164/164 [==============================] - 0s 2ms/step - loss: 0.1409 - accuracy: 0.9365\n",
            "Epoch 115/200\n",
            "164/164 [==============================] - 0s 2ms/step - loss: 0.1415 - accuracy: 0.9316\n",
            "Epoch 116/200\n",
            "164/164 [==============================] - 0s 2ms/step - loss: 0.1411 - accuracy: 0.9280\n",
            "Epoch 117/200\n",
            "164/164 [==============================] - 0s 2ms/step - loss: 0.1403 - accuracy: 0.9316\n",
            "Epoch 118/200\n",
            "164/164 [==============================] - 0s 2ms/step - loss: 0.1401 - accuracy: 0.9304\n",
            "Epoch 119/200\n",
            "164/164 [==============================] - 0s 2ms/step - loss: 0.1409 - accuracy: 0.9231\n",
            "Epoch 120/200\n",
            "164/164 [==============================] - 0s 2ms/step - loss: 0.1389 - accuracy: 0.9316\n",
            "Epoch 121/200\n",
            "164/164 [==============================] - 0s 2ms/step - loss: 0.1382 - accuracy: 0.9341\n",
            "Epoch 122/200\n",
            "164/164 [==============================] - 0s 2ms/step - loss: 0.1372 - accuracy: 0.9304\n",
            "Epoch 123/200\n",
            "164/164 [==============================] - 0s 2ms/step - loss: 0.1415 - accuracy: 0.9292\n",
            "Epoch 124/200\n",
            "164/164 [==============================] - 0s 2ms/step - loss: 0.1382 - accuracy: 0.9316\n",
            "Epoch 125/200\n",
            "164/164 [==============================] - 0s 2ms/step - loss: 0.1379 - accuracy: 0.9316\n",
            "Epoch 126/200\n",
            "164/164 [==============================] - 0s 2ms/step - loss: 0.1399 - accuracy: 0.9389\n",
            "Epoch 127/200\n",
            "164/164 [==============================] - 0s 2ms/step - loss: 0.1382 - accuracy: 0.9292\n",
            "Epoch 128/200\n",
            "164/164 [==============================] - 0s 2ms/step - loss: 0.1378 - accuracy: 0.9328\n",
            "Epoch 129/200\n",
            "164/164 [==============================] - 0s 2ms/step - loss: 0.1369 - accuracy: 0.9316\n",
            "Epoch 130/200\n",
            "164/164 [==============================] - 0s 2ms/step - loss: 0.1358 - accuracy: 0.9377\n",
            "Epoch 131/200\n",
            "164/164 [==============================] - 0s 2ms/step - loss: 0.1359 - accuracy: 0.9316\n",
            "Epoch 132/200\n",
            "164/164 [==============================] - 0s 2ms/step - loss: 0.1371 - accuracy: 0.9414\n",
            "Epoch 133/200\n",
            "164/164 [==============================] - 0s 2ms/step - loss: 0.1373 - accuracy: 0.9341\n",
            "Epoch 134/200\n",
            "164/164 [==============================] - 0s 2ms/step - loss: 0.1345 - accuracy: 0.9304\n",
            "Epoch 135/200\n",
            "164/164 [==============================] - 0s 2ms/step - loss: 0.1402 - accuracy: 0.9255\n",
            "Epoch 136/200\n",
            "164/164 [==============================] - 0s 2ms/step - loss: 0.1359 - accuracy: 0.9365\n",
            "Epoch 137/200\n",
            "164/164 [==============================] - 0s 2ms/step - loss: 0.1359 - accuracy: 0.9365\n",
            "Epoch 138/200\n",
            "164/164 [==============================] - 0s 2ms/step - loss: 0.1345 - accuracy: 0.9292\n",
            "Epoch 139/200\n",
            "164/164 [==============================] - 0s 2ms/step - loss: 0.1376 - accuracy: 0.9292\n",
            "Epoch 140/200\n",
            "164/164 [==============================] - 0s 2ms/step - loss: 0.1348 - accuracy: 0.9353\n",
            "Epoch 141/200\n",
            "164/164 [==============================] - 0s 2ms/step - loss: 0.1333 - accuracy: 0.9341\n",
            "Epoch 142/200\n",
            "164/164 [==============================] - 0s 2ms/step - loss: 0.1353 - accuracy: 0.9328\n",
            "Epoch 143/200\n",
            "164/164 [==============================] - 0s 2ms/step - loss: 0.1349 - accuracy: 0.9316\n",
            "Epoch 144/200\n",
            "164/164 [==============================] - 0s 2ms/step - loss: 0.1349 - accuracy: 0.9353\n",
            "Epoch 145/200\n",
            "164/164 [==============================] - 0s 2ms/step - loss: 0.1343 - accuracy: 0.9402\n",
            "Epoch 146/200\n",
            "164/164 [==============================] - 0s 2ms/step - loss: 0.1340 - accuracy: 0.9341\n",
            "Epoch 147/200\n",
            "164/164 [==============================] - 0s 2ms/step - loss: 0.1332 - accuracy: 0.9377\n",
            "Epoch 148/200\n",
            "164/164 [==============================] - 0s 2ms/step - loss: 0.1324 - accuracy: 0.9402\n",
            "Epoch 149/200\n",
            "164/164 [==============================] - 0s 2ms/step - loss: 0.1342 - accuracy: 0.9451\n",
            "Epoch 150/200\n",
            "164/164 [==============================] - 0s 2ms/step - loss: 0.1332 - accuracy: 0.9365\n",
            "Epoch 151/200\n",
            "164/164 [==============================] - 0s 2ms/step - loss: 0.1334 - accuracy: 0.9365\n",
            "Epoch 152/200\n",
            "164/164 [==============================] - 0s 2ms/step - loss: 0.1317 - accuracy: 0.9365\n",
            "Epoch 153/200\n",
            "164/164 [==============================] - 0s 2ms/step - loss: 0.1333 - accuracy: 0.9353\n",
            "Epoch 154/200\n",
            "164/164 [==============================] - 0s 2ms/step - loss: 0.1318 - accuracy: 0.9426\n",
            "Epoch 155/200\n",
            "164/164 [==============================] - 0s 2ms/step - loss: 0.1320 - accuracy: 0.9341\n",
            "Epoch 156/200\n",
            "164/164 [==============================] - 0s 2ms/step - loss: 0.1316 - accuracy: 0.9316\n",
            "Epoch 157/200\n",
            "164/164 [==============================] - 0s 2ms/step - loss: 0.1321 - accuracy: 0.9316\n",
            "Epoch 158/200\n",
            "164/164 [==============================] - 0s 2ms/step - loss: 0.1315 - accuracy: 0.9414\n",
            "Epoch 159/200\n",
            "164/164 [==============================] - 0s 2ms/step - loss: 0.1326 - accuracy: 0.9341\n",
            "Epoch 160/200\n",
            "164/164 [==============================] - 0s 2ms/step - loss: 0.1318 - accuracy: 0.9451\n",
            "Epoch 161/200\n",
            "164/164 [==============================] - 0s 2ms/step - loss: 0.1319 - accuracy: 0.9389\n",
            "Epoch 162/200\n",
            "164/164 [==============================] - 0s 2ms/step - loss: 0.1319 - accuracy: 0.9377\n",
            "Epoch 163/200\n",
            "164/164 [==============================] - 0s 2ms/step - loss: 0.1306 - accuracy: 0.9438\n",
            "Epoch 164/200\n",
            "164/164 [==============================] - 0s 2ms/step - loss: 0.1313 - accuracy: 0.9377\n",
            "Epoch 165/200\n",
            "164/164 [==============================] - 0s 2ms/step - loss: 0.1309 - accuracy: 0.9365\n",
            "Epoch 166/200\n",
            "164/164 [==============================] - 0s 2ms/step - loss: 0.1324 - accuracy: 0.9353\n",
            "Epoch 167/200\n",
            "164/164 [==============================] - 0s 2ms/step - loss: 0.1296 - accuracy: 0.9414\n",
            "Epoch 168/200\n",
            "164/164 [==============================] - 0s 2ms/step - loss: 0.1288 - accuracy: 0.9414\n",
            "Epoch 169/200\n",
            "164/164 [==============================] - 0s 2ms/step - loss: 0.1305 - accuracy: 0.9426\n",
            "Epoch 170/200\n",
            "164/164 [==============================] - 0s 2ms/step - loss: 0.1300 - accuracy: 0.9389\n",
            "Epoch 171/200\n",
            "164/164 [==============================] - 0s 2ms/step - loss: 0.1299 - accuracy: 0.9292\n",
            "Epoch 172/200\n",
            "164/164 [==============================] - 0s 2ms/step - loss: 0.1295 - accuracy: 0.9426\n",
            "Epoch 173/200\n",
            "164/164 [==============================] - 0s 2ms/step - loss: 0.1302 - accuracy: 0.9414\n",
            "Epoch 174/200\n",
            "164/164 [==============================] - 0s 2ms/step - loss: 0.1294 - accuracy: 0.9365\n",
            "Epoch 175/200\n",
            "164/164 [==============================] - 0s 2ms/step - loss: 0.1300 - accuracy: 0.9414\n",
            "Epoch 176/200\n",
            "164/164 [==============================] - 0s 2ms/step - loss: 0.1284 - accuracy: 0.9353\n",
            "Epoch 177/200\n",
            "164/164 [==============================] - 0s 2ms/step - loss: 0.1281 - accuracy: 0.9426\n",
            "Epoch 178/200\n",
            "164/164 [==============================] - 0s 2ms/step - loss: 0.1291 - accuracy: 0.9389\n",
            "Epoch 179/200\n",
            "164/164 [==============================] - 0s 2ms/step - loss: 0.1290 - accuracy: 0.9353\n",
            "Epoch 180/200\n",
            "164/164 [==============================] - 0s 2ms/step - loss: 0.1297 - accuracy: 0.9463\n",
            "Epoch 181/200\n",
            "164/164 [==============================] - 0s 2ms/step - loss: 0.1286 - accuracy: 0.9426\n",
            "Epoch 182/200\n",
            "164/164 [==============================] - 0s 2ms/step - loss: 0.1283 - accuracy: 0.9438\n",
            "Epoch 183/200\n",
            "164/164 [==============================] - 0s 2ms/step - loss: 0.1275 - accuracy: 0.9389\n",
            "Epoch 184/200\n",
            "164/164 [==============================] - 0s 2ms/step - loss: 0.1281 - accuracy: 0.9402\n",
            "Epoch 185/200\n",
            "164/164 [==============================] - 0s 2ms/step - loss: 0.1274 - accuracy: 0.9475\n",
            "Epoch 186/200\n",
            "164/164 [==============================] - 0s 2ms/step - loss: 0.1277 - accuracy: 0.9499\n",
            "Epoch 187/200\n",
            "164/164 [==============================] - 0s 2ms/step - loss: 0.1280 - accuracy: 0.9402\n",
            "Epoch 188/200\n",
            "164/164 [==============================] - 0s 2ms/step - loss: 0.1297 - accuracy: 0.9316\n",
            "Epoch 189/200\n",
            "164/164 [==============================] - 0s 2ms/step - loss: 0.1300 - accuracy: 0.9365\n",
            "Epoch 190/200\n",
            "164/164 [==============================] - 0s 2ms/step - loss: 0.1278 - accuracy: 0.9438\n",
            "Epoch 191/200\n",
            "164/164 [==============================] - 0s 2ms/step - loss: 0.1269 - accuracy: 0.9438\n",
            "Epoch 192/200\n",
            "164/164 [==============================] - 0s 2ms/step - loss: 0.1272 - accuracy: 0.9377\n",
            "Epoch 193/200\n",
            "164/164 [==============================] - 0s 2ms/step - loss: 0.1270 - accuracy: 0.9475\n",
            "Epoch 194/200\n",
            "164/164 [==============================] - 0s 2ms/step - loss: 0.1261 - accuracy: 0.9475\n",
            "Epoch 195/200\n",
            "164/164 [==============================] - 0s 2ms/step - loss: 0.1272 - accuracy: 0.9402\n",
            "Epoch 196/200\n",
            "164/164 [==============================] - 0s 2ms/step - loss: 0.1267 - accuracy: 0.9451\n",
            "Epoch 197/200\n",
            "164/164 [==============================] - 0s 2ms/step - loss: 0.1262 - accuracy: 0.9438\n",
            "Epoch 198/200\n",
            "164/164 [==============================] - 0s 2ms/step - loss: 0.1241 - accuracy: 0.9451\n",
            "Epoch 199/200\n",
            "164/164 [==============================] - 0s 2ms/step - loss: 0.1266 - accuracy: 0.9438\n",
            "Epoch 200/200\n",
            "164/164 [==============================] - 0s 2ms/step - loss: 0.1256 - accuracy: 0.9463\n"
          ]
        },
        {
          "output_type": "execute_result",
          "data": {
            "text/plain": [
              "<keras.callbacks.History at 0x7f77924f1c90>"
            ]
          },
          "metadata": {},
          "execution_count": 70
        }
      ]
    },
    {
      "cell_type": "markdown",
      "source": [
        "Evaluating the Algorithm ***ANN***"
      ],
      "metadata": {
        "id": "xasXZ_EDc1s9"
      }
    },
    {
      "cell_type": "code",
      "source": [
        "y_pred = model.predict(Xtest)\n",
        "y_pred=np.argmax(y_pred, axis=1)"
      ],
      "metadata": {
        "id": "KkKw8DynctZC",
        "colab": {
          "base_uri": "https://localhost:8080/"
        },
        "outputId": "4ccd59d5-1838-442c-fce5-dbd9819678d6"
      },
      "execution_count": 72,
      "outputs": [
        {
          "output_type": "stream",
          "name": "stdout",
          "text": [
            "7/7 [==============================] - 0s 2ms/step\n"
          ]
        }
      ]
    },
    {
      "cell_type": "code",
      "source": [
        "print(y_pred)"
      ],
      "metadata": {
        "colab": {
          "base_uri": "https://localhost:8080/"
        },
        "id": "wqltXsTnj0Cx",
        "outputId": "cb27f830-5cec-44c7-d52c-dc83fc235f23"
      },
      "execution_count": 73,
      "outputs": [
        {
          "output_type": "stream",
          "name": "stdout",
          "text": [
            "[3 0 4 3 4 0 0 4 3 3 1 4 3 2 1 1 3 1 0 0 0 2 2 1 0 3 0 4 1 1 1 3 0 2 1 3 4\n",
            " 1 0 2 4 0 4 1 1 3 1 3 0 4 3 0 0 0 0 0 1 4 0 1 1 2 1 3 3 1 4 1 4 1 0 4 1 4\n",
            " 1 0 1 4 1 3 1 0 4 4 1 1 1 3 3 2 0 1 0 1 0 1 0 4 1 1 1 3 1 1 3 3 0 3 3 0 4\n",
            " 0 1 4 1 3 1 0 1 4 1 0 4 0 1 1 1 3 3 1 0 4 1 1 4 2 4 4 3 1 1 0 1 1 3 0 4 0\n",
            " 3 4 1 2 0 0 1 2 1 1 3 2 4 1 1 1 0 4 0 0 3 2 1 0 3 0 2 0 1 4 0 1 1 3 4 1 4\n",
            " 1 0 1 2 1 4 1 1 1 4 1 4 1 0 1 3 2 4 1 4]\n"
          ]
        }
      ]
    },
    {
      "cell_type": "code",
      "source": [
        "y_acctual=np.argmax(ytest, axis=1)"
      ],
      "metadata": {
        "id": "R08ClFcmkqsk"
      },
      "execution_count": 74,
      "outputs": []
    },
    {
      "cell_type": "code",
      "source": [
        "from sklearn.metrics import confusion_matrix\n",
        "cm = confusion_matrix(y_acctual, y_pred)\n",
        "print(cm)"
      ],
      "metadata": {
        "colab": {
          "base_uri": "https://localhost:8080/"
        },
        "id": "f86pT5cej3pL",
        "outputId": "ff96b70e-0986-47aa-bb86-09e27354c662"
      },
      "execution_count": 75,
      "outputs": [
        {
          "output_type": "stream",
          "name": "stdout",
          "text": [
            "[[39  3  3  0  0]\n",
            " [ 1 68  0  1  1]\n",
            " [ 3  0 12  0  1]\n",
            " [ 2  1  0 31  0]\n",
            " [ 1  1  0  1 36]]\n"
          ]
        }
      ]
    },
    {
      "cell_type": "code",
      "source": [
        "_, accuracy = model.evaluate(Xtest, ytest)\n",
        "print('Accuracy: %.2f' % (accuracy*100))"
      ],
      "metadata": {
        "colab": {
          "base_uri": "https://localhost:8080/"
        },
        "id": "QJuOL6dij_gY",
        "outputId": "36304cb4-8c05-4ef2-df2d-49e6fe0d7026"
      },
      "execution_count": 76,
      "outputs": [
        {
          "output_type": "stream",
          "name": "stdout",
          "text": [
            "7/7 [==============================] - 0s 3ms/step - loss: 0.2047 - accuracy: 0.9073\n",
            "Accuracy: 90.73\n"
          ]
        }
      ]
    },
    {
      "cell_type": "code",
      "source": [
        "print(classification_report(y_acctual, y_pred))"
      ],
      "metadata": {
        "colab": {
          "base_uri": "https://localhost:8080/"
        },
        "id": "q_V-JtShlrcP",
        "outputId": "9cb7385d-7a96-4277-ec31-246e6828558e"
      },
      "execution_count": 77,
      "outputs": [
        {
          "output_type": "stream",
          "name": "stdout",
          "text": [
            "              precision    recall  f1-score   support\n",
            "\n",
            "           0       0.85      0.87      0.86        45\n",
            "           1       0.93      0.96      0.94        71\n",
            "           2       0.80      0.75      0.77        16\n",
            "           3       0.94      0.91      0.93        34\n",
            "           4       0.95      0.92      0.94        39\n",
            "\n",
            "    accuracy                           0.91       205\n",
            "   macro avg       0.89      0.88      0.89       205\n",
            "weighted avg       0.91      0.91      0.91       205\n",
            "\n"
          ]
        }
      ]
    },
    {
      "cell_type": "code",
      "source": [],
      "metadata": {
        "id": "9137ZJESmDSO"
      },
      "execution_count": null,
      "outputs": []
    }
  ]
}